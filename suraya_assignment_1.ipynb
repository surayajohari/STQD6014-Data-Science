{
  "nbformat": 4,
  "nbformat_minor": 0,
  "metadata": {
    "colab": {
      "provenance": [],
      "authorship_tag": "ABX9TyOy1k1xM5pTNYpCY6ogPBJv",
      "include_colab_link": true
    },
    "kernelspec": {
      "name": "python3",
      "display_name": "Python 3"
    },
    "language_info": {
      "name": "python"
    }
  },
  "cells": [
    {
      "cell_type": "markdown",
      "metadata": {
        "id": "view-in-github",
        "colab_type": "text"
      },
      "source": [
        "<a href=\"https://colab.research.google.com/github/surayajohari/STQD6014-Data-Science/blob/main/suraya_assignment_1.ipynb\" target=\"_parent\"><img src=\"https://colab.research.google.com/assets/colab-badge.svg\" alt=\"Open In Colab\"/></a>"
      ]
    },
    {
      "cell_type": "code",
      "source": [
        "print(\"--- Student Details ---\\n\")\n",
        "\n",
        "#Define an empty library for responses\n",
        "responses = {}\n",
        "\n",
        "#Set a flag to indicate that the system is active\n",
        "system = True\n",
        "\n",
        "#Use a while loop\n",
        "while system:\n",
        "    #Student fill in name\n",
        "    name = input(\"\\nPlease fill in student's name: \")\n",
        "    #Student fill in subjects score\n",
        "    print(\"Please fill in your student's subject scores below\")\n",
        "    bahasa = int(input(\"Bahasa Malaysia: \"))\n",
        "    eng = int(input(\"English: \"))\n",
        "    math = int(input(\"Mathematics: \"))\n",
        "    sci = int(input(\"Science: \"))\n",
        "    hist = int(input(\"History: \"))\n",
        "\n",
        "    subject = (bahasa, eng, math, sci, hist)\n",
        "\n",
        "    avg = sum(subject)/len(subject)\n",
        "\n",
        "    #Store these responses in the library\n",
        "    #name here is the key, scores here is the value in the library\n",
        "    responses[name] = avg\n",
        "\n",
        "    #Find out if this is the last student in the class\n",
        "    repeat = input(\"\\nDo you still need to add more student details into the system?\"\n",
        "                    + \"(yes/no)\")\n",
        "    if repeat == \"no\":\n",
        "        system = False\n",
        "\n",
        "#Filling in student details completed. Show the results\n",
        "print(\"\\n --- Student Results --- \")\n",
        "for name, avgscr in responses.items():\n",
        "    print(\"\\n\" + name.title() + \"'s average score is \" + str(avgscr))\n",
        "\n",
        "#Print out the final responses dictionary\n",
        "print(\"\\nThe latest responses library is like this\")\n",
        "print(responses.items())\n",
        "\n",
        "# To print student with highest score\n",
        "\n",
        "# To print student with highest score\n",
        "print(\"\\n --- Student with Highest Average Score ---\")\n",
        "\n",
        "#Define a function that will return the highest average score of student\n",
        "def highest_avg_score(avgscr):\n",
        "    \"\"\"Return highest average score among students\"\"\"\n",
        "    avg_high = 0\n",
        "    if avgscr >= avg_high:\n",
        "        avg_high = avgscr\n",
        "    return avgscr\n",
        "\n",
        "\n",
        "for name, avgscr in responses.items():\n",
        "    student_highest = highest_avg_score(avgscr)\n",
        "    print(\"Student with the highest average score is \" + name.title() + \" and average score is \" + str(student_highest))\n",
        "\n",
        "\n",
        "# To print student with lowest score\n",
        "print(\"\\n --- Student with Lowest Average Score ---\")\n",
        "\n",
        "#Define a function that will return the highest average score of student\n",
        "def lowest_avg_score(avgscr):\n",
        "    \"\"\"Return lowest average score among students\"\"\"\n",
        "    avg_low = 100\n",
        "    if avgscr <= avg_low:\n",
        "        avg_low = avgscr\n",
        "    return avgscr\n",
        "\n",
        "for name, avgscr in responses.items():\n",
        "    student_lowest = lowest_avg_score(avgscr)\n",
        "    print(\"Student with the lowest average score is \" + name.title() + \" and average score is \" + str(student_lowest))"
      ],
      "metadata": {
        "colab": {
          "base_uri": "https://localhost:8080/"
        },
        "id": "fVUZvHHaY1KV",
        "outputId": "ac7af91e-ecc5-4131-f947-afb03be05e0c"
      },
      "execution_count": 9,
      "outputs": [
        {
          "output_type": "stream",
          "name": "stdout",
          "text": [
            "--- Student Details ---\n",
            "\n",
            "\n",
            "Please fill in student's name: suraya\n",
            "Please fill in your student's subject scores below\n",
            "Bahasa Malaysia: 99\n",
            "English: 99\n",
            "Mathematics: 99\n",
            "Science: 99\n",
            "History: 99\n",
            "\n",
            "Do you still need to add more student details into the system?(yes/no)yes\n",
            "\n",
            "Please fill in student's name: ikha\n",
            "Please fill in your student's subject scores below\n",
            "Bahasa Malaysia: 11\n",
            "English: 11\n",
            "Mathematics: 11\n",
            "Science: 11\n",
            "History: 11\n",
            "\n",
            "Do you still need to add more student details into the system?(yes/no)no\n",
            "\n",
            " --- Student Results --- \n",
            "\n",
            "Suraya's average score is 99.0\n",
            "\n",
            "Ikha's average score is 11.0\n",
            "\n",
            "The latest responses library is like this\n",
            "dict_items([('suraya', 99.0), ('ikha', 11.0)])\n",
            "\n",
            " --- Student with Highest Average Score ---\n",
            "Student with the highest average score is Suraya and average score is 99.0\n",
            "Student with the highest average score is Ikha and average score is 11.0\n",
            "\n",
            " --- Student with Lowest Average Score ---\n",
            "Student with the lowest average score is Suraya and average score is 99.0\n",
            "Student with the lowest average score is Ikha and average score is 11.0\n"
          ]
        }
      ]
    }
  ]
}