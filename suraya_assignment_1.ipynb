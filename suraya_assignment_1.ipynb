{
  "nbformat": 4,
  "nbformat_minor": 0,
  "metadata": {
    "colab": {
      "provenance": [],
      "authorship_tag": "ABX9TyN5DdrDi84poKkVdPVHfVuA",
      "include_colab_link": true
    },
    "kernelspec": {
      "name": "python3",
      "display_name": "Python 3"
    },
    "language_info": {
      "name": "python"
    }
  },
  "cells": [
    {
      "cell_type": "markdown",
      "metadata": {
        "id": "view-in-github",
        "colab_type": "text"
      },
      "source": [
        "<a href=\"https://colab.research.google.com/github/surayajohari/STQD6014-Data-Science/blob/main/suraya_assignment_1.ipynb\" target=\"_parent\"><img src=\"https://colab.research.google.com/assets/colab-badge.svg\" alt=\"Open In Colab\"/></a>"
      ]
    },
    {
      "cell_type": "markdown",
      "source": [
        "Point 1"
      ],
      "metadata": {
        "id": "fgwwiG2y8_wc"
      }
    },
    {
      "cell_type": "code",
      "source": [
        "#Student fill in name\n",
        "name = input(\"Please fill in your name: \")\n",
        "\n",
        "#Student fill in subjects score\n",
        "print(\"\\nPlease fill in your subject scores\")\n",
        "bahasa = int(input(\"Bahasa Malaysia: \"))\n",
        "eng = int(input(\"English: \"))\n",
        "math = int(input(\"Mathematics: \"))\n",
        "sci = int(input(\"Science: \"))\n",
        "hist = int(input(\"History: \"))\n",
        "\n",
        "avg = (bahasa + eng + math + sci + hist)/5\n",
        "\n",
        "print(\"\\n\" + name.title() + \"'s average score is \" + str(avg))"
      ],
      "metadata": {
        "colab": {
          "base_uri": "https://localhost:8080/"
        },
        "id": "LcA9sGLd9cj8",
        "outputId": "cf223f5d-6664-45b3-c460-9845f7732c9c"
      },
      "execution_count": 9,
      "outputs": [
        {
          "output_type": "stream",
          "name": "stdout",
          "text": [
            "Please fill in your name: suraya\n",
            "\n",
            "Please fill in your subject scores\n",
            "Bahasa Malaysia: 100\n",
            "English: 20\n",
            "Mathematics: 100\n",
            "Science: 100\n",
            "History: 90\n",
            "\n",
            "Suraya's average score is82.0\n"
          ]
        }
      ]
    },
    {
      "cell_type": "markdown",
      "source": [
        "looping"
      ],
      "metadata": {
        "id": "pzcxzi0XAkOr"
      }
    },
    {
      "cell_type": "code",
      "source": [
        "#Define an empty library for responses\n",
        "responses = {}\n",
        "\n",
        "#Set a flag to indicate that the system is active\n",
        "system = True\n",
        "\n",
        "#Use a while loop\n",
        "while system:\n",
        "    #Student fill in name\n",
        "    name = input(\"\\nPlease fill in student's name: \")\n",
        "    #Student fill in subjects score\n",
        "    print(\"Please fill in your student's subject scores below\")\n",
        "    bahasa = int(input(\"Bahasa Malaysia: \"))\n",
        "    eng = int(input(\"English: \"))\n",
        "    math = int(input(\"Mathematics: \"))\n",
        "    sci = int(input(\"Science: \"))\n",
        "    hist = int(input(\"History: \"))\n",
        "\n",
        "    subject = (bahasa, eng, math, sci, hist)\n",
        "\n",
        "    avg = sum(subject)/len(subject)\n",
        "\n",
        "    #Store these responses in the library\n",
        "    #name here is the key, scores here is the value in the library\n",
        "    responses[name] = avg\n",
        "\n",
        "    #Find out if this is the last student in the class\n",
        "    repeat = input(\"\\nDo you still need to add more student details into the system?\"\n",
        "                    + \"(yes/no)\")\n",
        "    if repeat == \"no\":\n",
        "        system = False\n",
        "\n",
        "#Filling in student details completed. Show the results\n",
        "print(\"\\n --- Student Details --- \")\n",
        "for name, avgscr in responses.items():\n",
        "    print(\"\\n\" + name.title() + \"'s average score is \" + str(avgscr))\n",
        "\n",
        "#Print out the final responses dictionary\n",
        "print(\"\\n The latest responses library is like this\")\n",
        "print(responses.items())\n",
        ""
      ],
      "metadata": {
        "colab": {
          "base_uri": "https://localhost:8080/"
        },
        "id": "JybP3LYeAj1g",
        "outputId": "c7f83379-cbeb-4f8c-900f-f565a639ca40"
      },
      "execution_count": 14,
      "outputs": [
        {
          "output_type": "stream",
          "name": "stdout",
          "text": [
            "\n",
            "Please fill in student's name: Suraya\n",
            "Please fill in your student's subject scores below\n",
            "Bahasa Malaysia: 100\n",
            "English: 100\n",
            "Mathematics: 100\n",
            "Science: 100\n",
            "History: 100\n",
            "\n",
            "Do you still need to add more student details into the system?(yes/no)yes\n",
            "\n",
            "Please fill in student's name: Mas\n",
            "Please fill in your student's subject scores below\n",
            "Bahasa Malaysia: 50\n",
            "English: 50\n",
            "Mathematics: 50\n",
            "Science: 50\n",
            "History: 50\n",
            "\n",
            "Do you still need to add more student details into the system?(yes/no)no\n",
            "\n",
            " --- Student Details --- \n",
            "\n",
            "Suraya's average score is 100.0\n",
            "\n",
            "Mas's average score is 50.0\n",
            "\n",
            " The latest responses library is like this\n",
            "dict_items([('Suraya', 100.0), ('Mas', 50.0)])\n"
          ]
        }
      ]
    },
    {
      "cell_type": "code",
      "source": [],
      "metadata": {
        "id": "NdH-eyYtCF6s"
      },
      "execution_count": null,
      "outputs": []
    }
  ]
}