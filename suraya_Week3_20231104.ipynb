{
  "nbformat": 4,
  "nbformat_minor": 0,
  "metadata": {
    "colab": {
      "provenance": [],
      "include_colab_link": true
    },
    "kernelspec": {
      "name": "python3",
      "display_name": "Python 3"
    },
    "language_info": {
      "name": "python"
    }
  },
  "cells": [
    {
      "cell_type": "markdown",
      "metadata": {
        "id": "view-in-github",
        "colab_type": "text"
      },
      "source": [
        "<a href=\"https://colab.research.google.com/github/surayajohari/STQD6014-Data-Science/blob/main/suraya_Week3_20231104.ipynb\" target=\"_parent\"><img src=\"https://colab.research.google.com/assets/colab-badge.svg\" alt=\"Open In Colab\"/></a>"
      ]
    },
    {
      "cell_type": "markdown",
      "source": [
        "# **Week 03: If Statement**"
      ],
      "metadata": {
        "id": "wAJzPiuPfytH"
      }
    },
    {
      "cell_type": "markdown",
      "source": [
        "#**Suraya Adnin binti Johari**"
      ],
      "metadata": {
        "id": "PUerhvMLGolg"
      }
    },
    {
      "cell_type": "code",
      "execution_count": null,
      "metadata": {
        "id": "K3kRlxvX6A7L",
        "colab": {
          "base_uri": "https://localhost:8080/"
        },
        "outputId": "d541580e-3590-4a08-efee-48c1a5f65124"
      },
      "outputs": [
        {
          "output_type": "stream",
          "name": "stdout",
          "text": [
            "Audi\n",
            "BMW\n",
            "Subaru\n",
            "Toyota\n"
          ]
        }
      ],
      "source": [
        "# Exercise 1\n",
        "cars = ['audi', 'bmw', 'subaru', 'toyota']\n",
        "\n",
        "for car in cars:\n",
        "    if car == 'bmw':\n",
        "        print(car.upper())\n",
        "    else:\n",
        "        print (car.title())\n",
        "\n"
      ]
    },
    {
      "cell_type": "code",
      "source": [
        "# Exercise 2\n",
        "requested_topping = 'anchovies'\n",
        "\n",
        "if requested_topping != 'anchovies':\n",
        "    print('Hold the anchovies')\n",
        "else:\n",
        "    print('Suraya, please serve the anchovies fast!!!!')"
      ],
      "metadata": {
        "id": "fviS0BYz8fUO",
        "colab": {
          "base_uri": "https://localhost:8080/"
        },
        "outputId": "d1f41864-2764-4639-dd2a-ea5cad480e07"
      },
      "execution_count": null,
      "outputs": [
        {
          "output_type": "stream",
          "name": "stdout",
          "text": [
            "Suraya, please serve the anchovies fast!!!!\n"
          ]
        }
      ]
    },
    {
      "cell_type": "code",
      "source": [
        "# Exercise 3\n",
        "age_0 = 22\n",
        "age_1 = 18"
      ],
      "metadata": {
        "id": "hV59aeSw8uSF"
      },
      "execution_count": null,
      "outputs": []
    },
    {
      "cell_type": "code",
      "source": [
        "# Checking using different condition\n",
        "# age_0 < 21 and age_1 < 21 - FALSE\n",
        "# age_0 < 21 or age_1 < 21 - TRUE\n",
        "# age_0 >= 21 and age_1 >= 21 - FALSE\n",
        "# age_0 >= 21 or age_1 >= 21 - TRUE\n",
        "# age_0 >= 21 and age_1 >= 21 - FALSE\n"
      ],
      "metadata": {
        "id": "69W0k1_NgKOS"
      },
      "execution_count": null,
      "outputs": []
    },
    {
      "cell_type": "code",
      "source": [
        "age_0 >= 21 and age_1 >= 21"
      ],
      "metadata": {
        "colab": {
          "base_uri": "https://localhost:8080/"
        },
        "id": "X1Ohn0SpIK8_",
        "outputId": "b13bb73d-7b18-4651-bd2c-22d395b8dd6b"
      },
      "execution_count": null,
      "outputs": [
        {
          "output_type": "execute_result",
          "data": {
            "text/plain": [
              "False"
            ]
          },
          "metadata": {},
          "execution_count": 14
        }
      ]
    },
    {
      "cell_type": "markdown",
      "source": [
        "# **A point of ponder :)**"
      ],
      "metadata": {
        "id": "Wk6VCX9djopY"
      }
    },
    {
      "cell_type": "code",
      "source": [
        "# What would the following code evaluate to? True or False?\n",
        "# and why?\n",
        "age_0 and age_1 < 21"
      ],
      "metadata": {
        "colab": {
          "base_uri": "https://localhost:8080/"
        },
        "id": "8ZiSEm66K9eN",
        "outputId": "68ad5cad-19a1-4b1a-a978-40b56394888e"
      },
      "execution_count": null,
      "outputs": [
        {
          "output_type": "execute_result",
          "data": {
            "text/plain": [
              "True"
            ]
          },
          "metadata": {},
          "execution_count": 23
        }
      ]
    },
    {
      "cell_type": "code",
      "source": [
        "22 and True #this consider as true bcs 22 and 1 -> numeric and numeric"
      ],
      "metadata": {
        "colab": {
          "base_uri": "https://localhost:8080/"
        },
        "id": "CFd_Ju7sJ2NH",
        "outputId": "fb4a7df7-2b19-4170-d43f-2c64a5d4cd6d"
      },
      "execution_count": null,
      "outputs": [
        {
          "output_type": "execute_result",
          "data": {
            "text/plain": [
              "True"
            ]
          },
          "metadata": {},
          "execution_count": 18
        }
      ]
    },
    {
      "cell_type": "code",
      "source": [
        "# Exercise 4 - using the keyword in\n",
        "requested_topping = ['mushrooms', 'onions', 'pineapple']\n",
        "\n",
        "# Check whether mushrooms is in the topping list\n",
        "#'mushrooms' in requested_topping\n",
        "\n",
        "# Check whether pepperoni is in the topping list\n",
        "'pepperoni' in requested_topping"
      ],
      "metadata": {
        "colab": {
          "base_uri": "https://localhost:8080/"
        },
        "id": "HoqYVO2nLJ9G",
        "outputId": "f39ffe26-dd11-46fe-b177-9bb92b70aba0"
      },
      "execution_count": null,
      "outputs": [
        {
          "output_type": "execute_result",
          "data": {
            "text/plain": [
              "False"
            ]
          },
          "metadata": {},
          "execution_count": 30
        }
      ]
    },
    {
      "cell_type": "code",
      "source": [
        "# Exercise 5\n",
        "banned_users = ['andrew', 'carolina', 'david']\n",
        "\n",
        "# Check whether marie, 007 and andrew is in the banned user list\n",
        "#user = 'marie'\n",
        "user = 7\n",
        "\n",
        "if user not in banned_users:\n",
        "    print(\"%03d\"% (user) + ', you can post a response if you wish.')\n",
        "\n",
        "#user = '007'\n",
        "#user = 'andrew'\n"
      ],
      "metadata": {
        "id": "RWb1iy4I-eFb",
        "colab": {
          "base_uri": "https://localhost:8080/"
        },
        "outputId": "68c4c6d5-fce4-4c88-cdf3-aef30331c3f9"
      },
      "execution_count": null,
      "outputs": [
        {
          "output_type": "stream",
          "name": "stdout",
          "text": [
            "007, you can post a response if you wish.\n"
          ]
        }
      ]
    },
    {
      "cell_type": "code",
      "source": [
        "# Try it yourself\n",
        "# Try making sense of it\n",
        "car = 'subaru'\n",
        "print(\"Is car == 'subaru'? I predict True.\")\n",
        "print(car == \"subaru\") #this is logical comparison; not a printing string.\n",
        "\n",
        "print(\"\\nIs car == 'audi'? I predict False\")\n",
        "print(car == 'audi') #this is logical comparison; not a printing string."
      ],
      "metadata": {
        "id": "Usq-CnrjCi71",
        "colab": {
          "base_uri": "https://localhost:8080/"
        },
        "outputId": "71c8cd3b-543b-438a-f3e2-14f21c4d1f80"
      },
      "execution_count": null,
      "outputs": [
        {
          "output_type": "stream",
          "name": "stdout",
          "text": [
            "Is car == 'subaru'? I predict True.\n",
            "True\n",
            "\n",
            "Is car == 'audi'? I predict False\n",
            "False\n"
          ]
        }
      ]
    },
    {
      "cell_type": "code",
      "source": [
        "# If statement\n",
        "age = 18\n",
        "\n",
        "if age >= 18:\n",
        "    print(\"You are old enough to vote!\")\n",
        "    print(\"Have you registered to vote yet?\")\n",
        "    print(\"Oh ya, tak yah register pun\")\n",
        "else:\n",
        "    print(\"Too bad...You would have to wait for GE17\")\n"
      ],
      "metadata": {
        "id": "BN5LXsVWDN_b",
        "colab": {
          "base_uri": "https://localhost:8080/"
        },
        "outputId": "5ce48e88-8d15-4a53-a77a-782195333ea2"
      },
      "execution_count": null,
      "outputs": [
        {
          "output_type": "stream",
          "name": "stdout",
          "text": [
            "You are old enough to vote!\n",
            "Have you registered to vote yet?\n",
            "Oh ya, tak yah register pun\n"
          ]
        }
      ]
    },
    {
      "cell_type": "code",
      "source": [
        "# Given the if-elif-else statement\n",
        "age = 55\n",
        "if age < 4:\n",
        "    print(\"Your admission rate is RM0.\")\n",
        "elif age < 18:\n",
        "    print(\"Your admission rate is RM5.\")\n",
        "else:\n",
        "    print(\"Your admission rate is RM10.\")"
      ],
      "metadata": {
        "colab": {
          "base_uri": "https://localhost:8080/"
        },
        "id": "5lNf9lMgEO4H",
        "outputId": "a0b7e593-9e4a-4694-9fa0-c469750017f2"
      },
      "execution_count": null,
      "outputs": [
        {
          "output_type": "stream",
          "name": "stdout",
          "text": [
            "Your admission rate is RM10.\n"
          ]
        }
      ]
    },
    {
      "cell_type": "code",
      "source": [
        "# Exercise 6 - Revising the previous code for a cleaner version\n",
        "user = 'andrew'\n",
        "age = 67\n",
        "\n",
        "if age < 4:\n",
        "    rate = 0\n",
        "elif age < 18:\n",
        "    rate = 5\n",
        "elif age < 65:\n",
        "    rate = 10\n",
        "else:\n",
        "    rate = 5\n",
        "\n",
        "print('Your admission rate is RM'+ str(rate) + ',', user.title() + '.')\n",
        "#if use + -> no spacing, if use , -> with spacing"
      ],
      "metadata": {
        "id": "litAhuvSGR6l",
        "colab": {
          "base_uri": "https://localhost:8080/"
        },
        "outputId": "7bedcfb1-5602-41e9-eb4f-8838fd7380d9"
      },
      "execution_count": null,
      "outputs": [
        {
          "output_type": "stream",
          "name": "stdout",
          "text": [
            "Your admission rate is RM5, Andrew.\n"
          ]
        }
      ]
    },
    {
      "cell_type": "code",
      "source": [
        "# Exercise 7 - end the code using elif for easier interpretation\n",
        "age = 67\n",
        "if age < 4:\n",
        "    rate = 0\n",
        "elif age < 18:\n",
        "    rate = 5\n",
        "elif age < 65:\n",
        "    rate = 10\n",
        "elif age >= 65:\n",
        "    rate = 5\n",
        "\n",
        "print('Your admission rate is RM'+ str(rate) + ',', user.title() + '.')"
      ],
      "metadata": {
        "id": "T6AvirgKHEWz",
        "colab": {
          "base_uri": "https://localhost:8080/"
        },
        "outputId": "72e22a7a-7ec1-43be-804c-f8d6625cc95b"
      },
      "execution_count": null,
      "outputs": [
        {
          "output_type": "stream",
          "name": "stdout",
          "text": [
            "Your admission rate is RM5, Andrew.\n"
          ]
        }
      ]
    },
    {
      "cell_type": "code",
      "source": [
        "# Exercise 8 - multiple if\n",
        "requested_topping = ['mushrooms', 'extra cheese']\n",
        "\n",
        "if 'mushrooms' in requested_topping:\n",
        "    print('Adding mushrooms')\n",
        "if 'pepperoni' in requested_topping:\n",
        "    print('Adding pepperoni')\n",
        "if 'extra cheese' in requested_topping:\n",
        "    print('Adding extra cheese')\n",
        "\n",
        "print('\\nFinished making your pizza!!!!') #\\n is for adding new line"
      ],
      "metadata": {
        "id": "FUPOtDHjXZAr",
        "colab": {
          "base_uri": "https://localhost:8080/"
        },
        "outputId": "9426331f-d264-447e-ca7e-b9aa49498a10"
      },
      "execution_count": null,
      "outputs": [
        {
          "output_type": "stream",
          "name": "stdout",
          "text": [
            "Adding mushrooms\n",
            "Adding extra cheese\n",
            "\n",
            "Finished making your pizza!!!!\n"
          ]
        }
      ]
    },
    {
      "cell_type": "code",
      "source": [
        "# Exercise 9 - To check for special conditions / items\n",
        "requested_toppings = ['mushrooms', 'extra cheese', 'green peppers']\n",
        "\n",
        "for requested_toppings in requested_toppings:\n",
        "    if requested_toppings == 'green peppers':\n",
        "        print('Sorry, we are out of green peppers right now!!')\n",
        "    else:\n",
        "        print('Adding', requested_toppings + \".\")\n",
        "\n",
        "print(\"\\nFinished making your pizza!\")\n",
        "\n",
        "#for is to loop element in the list\n",
        "#if else is for special conditions"
      ],
      "metadata": {
        "id": "sy9baNJxYusX",
        "colab": {
          "base_uri": "https://localhost:8080/",
          "height": 254
        },
        "outputId": "dd55231b-051b-4893-cab6-6dbe713a5af2"
      },
      "execution_count": null,
      "outputs": [
        {
          "output_type": "error",
          "ename": "TypeError",
          "evalue": "ignored",
          "traceback": [
            "\u001b[0;31m---------------------------------------------------------------------------\u001b[0m",
            "\u001b[0;31mTypeError\u001b[0m                                 Traceback (most recent call last)",
            "\u001b[0;32m<ipython-input-123-ab32436fe12b>\u001b[0m in \u001b[0;36m<cell line: 4>\u001b[0;34m()\u001b[0m\n\u001b[1;32m      6\u001b[0m         \u001b[0mprint\u001b[0m\u001b[0;34m(\u001b[0m\u001b[0;34m'Sorry, we are out of green peppers right now!!'\u001b[0m\u001b[0;34m)\u001b[0m\u001b[0;34m\u001b[0m\u001b[0;34m\u001b[0m\u001b[0m\n\u001b[1;32m      7\u001b[0m     \u001b[0;32melse\u001b[0m\u001b[0;34m:\u001b[0m\u001b[0;34m\u001b[0m\u001b[0;34m\u001b[0m\u001b[0m\n\u001b[0;32m----> 8\u001b[0;31m         \u001b[0mprint\u001b[0m\u001b[0;34m(\u001b[0m\u001b[0;34m'Adding'\u001b[0m\u001b[0;34m,\u001b[0m \u001b[0mrequested_toppings\u001b[0m \u001b[0;34m+\u001b[0m \u001b[0;34m\".\"\u001b[0m\u001b[0;34m)\u001b[0m\u001b[0;34m\u001b[0m\u001b[0;34m\u001b[0m\u001b[0m\n\u001b[0m\u001b[1;32m      9\u001b[0m \u001b[0;34m\u001b[0m\u001b[0m\n\u001b[1;32m     10\u001b[0m \u001b[0mprint\u001b[0m\u001b[0;34m(\u001b[0m\u001b[0;34m\"\\nFinished making your pizza!\"\u001b[0m\u001b[0;34m)\u001b[0m\u001b[0;34m\u001b[0m\u001b[0;34m\u001b[0m\u001b[0m\n",
            "\u001b[0;31mTypeError\u001b[0m: can only concatenate list (not \"str\") to list"
          ]
        }
      ]
    },
    {
      "cell_type": "code",
      "source": [
        "# Exercise 10 - Checking for a list that is empty\n",
        "requested_toppings = []\n",
        "\n",
        "if requested_toppings:\n",
        "    for requested_toppings in requested_toppings:\n",
        "        print(\"Adding\", requested_toppings + \".\")\n",
        "        print('\\nFinished making your pizza!!')\n",
        "else:\n",
        "    print('Are you sure you want to make a plain pizza?')"
      ],
      "metadata": {
        "id": "s_0W3DsnUq02",
        "colab": {
          "base_uri": "https://localhost:8080/"
        },
        "outputId": "9309ca9c-7ca5-45f1-efca-395e4b042dc0"
      },
      "execution_count": null,
      "outputs": [
        {
          "output_type": "stream",
          "name": "stdout",
          "text": [
            "Are you sure you want to make a plain pizza?\n"
          ]
        }
      ]
    },
    {
      "cell_type": "code",
      "source": [
        "# Exercise 11 - Using multiple lists\n",
        "available_toppings = ['mushrooms', 'olives', 'green peppers', 'pepperoni',\n",
        "                      'pineapple', 'extra cheese']\n",
        "requested_toppings = ['mushrooms', 'french fries', 'extra cheese', 'crab meat']\n",
        "\n",
        "for z in requested_toppings:\n",
        "    if z in available_toppings:\n",
        "        print('Adding', z + \".\")\n",
        "    else:\n",
        "        print(\"Sorry, we don't have\", z)\n",
        "\n",
        "print(\"\\nFinished making your pizza!\")"
      ],
      "metadata": {
        "id": "j4EyZ_3KhSAR",
        "colab": {
          "base_uri": "https://localhost:8080/"
        },
        "outputId": "5a794540-fc71-444f-dfb1-3eb8e5228469"
      },
      "execution_count": null,
      "outputs": [
        {
          "output_type": "stream",
          "name": "stdout",
          "text": [
            "Adding mushrooms.\n",
            "Sorry, we don't have french fries\n",
            "Adding extra cheese.\n",
            "Sorry, we don't have crab meat\n",
            "\n",
            "Finished making your pizza!\n"
          ]
        }
      ]
    },
    {
      "cell_type": "code",
      "source": [
        "# Exercise 12 - Accessing the value using the key in dictionary\n",
        "alien_0 = {'color': 'green', 'points':5}\n",
        "\n",
        "# get the alien's color\n",
        "print(alien_0['color'])\n",
        "\n",
        "# get the alien's point\n",
        "print(alien_0['points'])"
      ],
      "metadata": {
        "id": "DmUQQo0li7bg",
        "colab": {
          "base_uri": "https://localhost:8080/"
        },
        "outputId": "af6c07ec-1698-46b8-eff9-2ab697fab4b5"
      },
      "execution_count": null,
      "outputs": [
        {
          "output_type": "stream",
          "name": "stdout",
          "text": [
            "green\n",
            "5\n"
          ]
        }
      ]
    },
    {
      "cell_type": "code",
      "source": [
        "#getting back this alien_0 dictionary\n",
        "alien_0"
      ],
      "metadata": {
        "colab": {
          "base_uri": "https://localhost:8080/"
        },
        "id": "PnKbFRjCebA1",
        "outputId": "c8fd577f-f4b0-462c-b01c-e87b8ada5cc8"
      },
      "execution_count": null,
      "outputs": [
        {
          "output_type": "execute_result",
          "data": {
            "text/plain": [
              "{'color': 'green', 'points': 5}"
            ]
          },
          "metadata": {},
          "execution_count": 137
        }
      ]
    },
    {
      "cell_type": "code",
      "source": [
        "# Start building the alien_0 dictionary from scratch\n",
        "alien_0 = {}\n",
        "alien_0['color']='green'\n",
        "alien_0['points']=5\n",
        "\n",
        "print(alien_0)"
      ],
      "metadata": {
        "id": "w1jfQOdDayLN",
        "colab": {
          "base_uri": "https://localhost:8080/"
        },
        "outputId": "be6d4442-adc3-42cc-cf12-b6184f0a7a69"
      },
      "execution_count": null,
      "outputs": [
        {
          "output_type": "stream",
          "name": "stdout",
          "text": [
            "{'color': 'green', 'points': 5}\n"
          ]
        }
      ]
    },
    {
      "cell_type": "code",
      "source": [
        "alien_0"
      ],
      "metadata": {
        "colab": {
          "base_uri": "https://localhost:8080/"
        },
        "id": "emud4BEneaVW",
        "outputId": "8b5eefda-3e7c-4537-dba5-9a675c71288f"
      },
      "execution_count": null,
      "outputs": [
        {
          "output_type": "execute_result",
          "data": {
            "text/plain": [
              "{'color': 'green', 'points': 5}"
            ]
          },
          "metadata": {},
          "execution_count": 67
        }
      ]
    },
    {
      "cell_type": "code",
      "source": [
        "# Exercise 13 - extract the value from the dictionary\n",
        "# put in a variable called new_points\n",
        "# Print out the value\n",
        "alien_0 = {'color': 'green', 'points':5}\n",
        "\n",
        "#First extract the point from the dictionary\n",
        "new_points=alien_0['points']\n",
        "\n",
        "#Printing the message\n",
        "print(\"You have just earn\", str(new_points), \"points\")"
      ],
      "metadata": {
        "id": "Dg5C29oafPu5",
        "colab": {
          "base_uri": "https://localhost:8080/"
        },
        "outputId": "06d7cbb8-2cf9-4a72-e854-0272fb995611"
      },
      "execution_count": null,
      "outputs": [
        {
          "output_type": "stream",
          "name": "stdout",
          "text": [
            "You have just earn 5 points\n"
          ]
        }
      ]
    },
    {
      "cell_type": "code",
      "source": [
        "# Exercise 14 - change the color value in the dictionary\n",
        "\n",
        "alien_0 = {'color': 'green', 'points':5}\n",
        "\n",
        "alien_0['color']='Indigo'\n",
        "\n",
        "# Print out the new color\n",
        "print(\"The alien is now \" + alien_0['color'] +\".\")\n"
      ],
      "metadata": {
        "id": "aqLdYAec4UJi",
        "colab": {
          "base_uri": "https://localhost:8080/"
        },
        "outputId": "c4e2bb00-6e61-4434-9aff-6158832fcfce"
      },
      "execution_count": null,
      "outputs": [
        {
          "output_type": "stream",
          "name": "stdout",
          "text": [
            "The alien is now Indigo.\n"
          ]
        }
      ]
    },
    {
      "cell_type": "code",
      "source": [
        "# Exercise 15 - change the value in the dictionary; using if-elif-else statement\n",
        "alien_0 = {'x_position': 0, 'y_position': 25, 'speed': 'fast'}\n",
        "\n",
        "# Move the alien to the right.\n",
        "\n",
        "# Determine how far to move the alien based on its current speed.\n",
        "\n",
        "# The new position is the old position plus the increment.\n",
        "\n",
        "if alien_0['speed'] == 'slow':\n",
        "    x_increment = 1\n",
        "elif alien_0['speed'] == 'medium':\n",
        "    x_increment = 2\n",
        "elif alien_0['speed'] == 'fast':\n",
        "    x_increment = 3\n",
        "\n",
        "new_x_position = alien_0['x_position'] + x_increment\n",
        "print(\"New x position is\", new_x_position)\n",
        "\n",
        "alien_0['x_position'] = new_x_position\n",
        "print(alien_0)"
      ],
      "metadata": {
        "id": "vfDw_r_L5jPz",
        "colab": {
          "base_uri": "https://localhost:8080/"
        },
        "outputId": "a7e4d031-bbad-4b1e-bef7-8fe37c55ae12"
      },
      "execution_count": null,
      "outputs": [
        {
          "output_type": "stream",
          "name": "stdout",
          "text": [
            "New x position is 3\n",
            "{'x_position': 3, 'y_position': 25, 'speed': 'fast'}\n"
          ]
        }
      ]
    },
    {
      "cell_type": "code",
      "source": [
        "# Exercise 16 - using del() function\n",
        "alien_0 = {'color': 'green', 'points': 5}\n",
        "print(alien_0)\n",
        "\n",
        "# Delete the points from the dictionary\n",
        "del(alien_0['points'])\n",
        "print(alien_0)"
      ],
      "metadata": {
        "id": "efbBa0SB6hlj",
        "colab": {
          "base_uri": "https://localhost:8080/"
        },
        "outputId": "c4f1a1bc-e7dd-4d0f-d6a9-dc8d6a339f65"
      },
      "execution_count": null,
      "outputs": [
        {
          "output_type": "stream",
          "name": "stdout",
          "text": [
            "{'color': 'green', 'points': 5}\n",
            "{'color': 'green'}\n"
          ]
        }
      ]
    },
    {
      "cell_type": "code",
      "source": [
        "# Exercise 17 - break dictionary into several lines\n",
        "\n",
        "fav_prog = {\n",
        "    'jen':'python',\n",
        "    'sarah':'c',\n",
        "    'edward':'ruby',\n",
        "    'phil':'phython'\n",
        "}\n",
        "\n",
        "print(\"Phil's favorite language is\", fav_prog['phil'].title() + \".\")"
      ],
      "metadata": {
        "id": "KtsGcBJC8MBy",
        "colab": {
          "base_uri": "https://localhost:8080/"
        },
        "outputId": "31af21dd-3463-4dae-d4f7-68a8c6d60ca1"
      },
      "execution_count": null,
      "outputs": [
        {
          "output_type": "stream",
          "name": "stdout",
          "text": [
            "Phil's favorite language is Phython.\n"
          ]
        }
      ]
    },
    {
      "cell_type": "code",
      "source": [
        "# Exercise 18 - print out the key-value pairs using items() function\n",
        "# using the for function\n",
        "for name, subject in fav_prog.items():\n",
        "    print(name.title() +\n",
        "          \"'s favorite langugae is\",\n",
        "          subject.title() +\n",
        "          \".\")"
      ],
      "metadata": {
        "colab": {
          "base_uri": "https://localhost:8080/"
        },
        "id": "piktzd1c9b7c",
        "outputId": "4d9c2a13-cd82-4cb8-9e3e-9681cc4fa3b3"
      },
      "execution_count": null,
      "outputs": [
        {
          "output_type": "stream",
          "name": "stdout",
          "text": [
            "Jen's favorite langugae is Python.\n",
            "Sarah's favorite langugae is C.\n",
            "Edward's favorite langugae is Ruby.\n",
            "Phil's favorite langugae is Phython.\n"
          ]
        }
      ]
    },
    {
      "cell_type": "code",
      "source": [
        "# Exercise 19 - print out the key-value pairs using key() function\n",
        "favorite_languages = {\n",
        "    'jen': 'python',\n",
        "    'sarah': 'c',\n",
        "    'edward': 'ruby',\n",
        "    'phil': 'python',\n",
        "    }\n",
        "friends = ['phil', 'sarah']\n",
        "\n",
        "for name in favorite_languages.keys():\n",
        "    if name in friends:\n",
        "        print(\"Hi \" +\n",
        "              name.title() +\n",
        "              \", your fav language is \" +\n",
        "              favorite_languages[name].title() + \"!\")"
      ],
      "metadata": {
        "id": "HDxDyGRj_LLh",
        "colab": {
          "base_uri": "https://localhost:8080/"
        },
        "outputId": "aaa7858e-ce5b-45a7-8f8d-472d1b7773d1"
      },
      "execution_count": null,
      "outputs": [
        {
          "output_type": "stream",
          "name": "stdout",
          "text": [
            "Hi Sarah, your fav language is C.\n",
            "Hi Phil, your fav language is Python.\n"
          ]
        }
      ]
    },
    {
      "cell_type": "code",
      "source": [
        "# Exercise 20 - print out the key-value pairs using not in function\n",
        "favorite_languages = {\n",
        "    'jen': 'python',\n",
        "    'sarah': 'c',\n",
        "    'edward': 'ruby',\n",
        "    'phil': 'python',\n",
        "    }\n",
        "name = 'Suraya'\n",
        "\n",
        "if name not in favorite_languages.keys():\n",
        "    print(name, \"please study hard!!!\")"
      ],
      "metadata": {
        "id": "2SnKUKMEAA8t",
        "colab": {
          "base_uri": "https://localhost:8080/"
        },
        "outputId": "f3e5b60f-7622-4bc7-db62-d6937508fba8"
      },
      "execution_count": 9,
      "outputs": [
        {
          "output_type": "stream",
          "name": "stdout",
          "text": [
            "Suraya please study hard!!!\n"
          ]
        }
      ]
    },
    {
      "cell_type": "code",
      "source": [
        "# Exercise 21 - Sort keys in order\n",
        "# Print out the message thanking them to take the poll\n",
        "favorite_languages = {\n",
        "    'jen': 'python',\n",
        "    'sarah': 'c',\n",
        "    'edward': 'ruby',\n",
        "    'phil': 'python',\n",
        "    }\n",
        "\n",
        "#Create a for loop in this case\n",
        "#Use the sorted() to sort the keys names in alphabetical order\n",
        "#Print out the message thanking them to take the poll\n",
        "\n",
        "for name in sorted(favorite_languages.keys()):\n",
        "    print(name.title() + \", thank you for taking poll.\")"
      ],
      "metadata": {
        "id": "6QBXlZM1Axk4",
        "colab": {
          "base_uri": "https://localhost:8080/"
        },
        "outputId": "f5539087-dde2-4844-a26f-b52a27a2112b"
      },
      "execution_count": 8,
      "outputs": [
        {
          "output_type": "stream",
          "name": "stdout",
          "text": [
            "Edward, thank you for taking poll.\n",
            "Jen, thank you for taking poll.\n",
            "Phil, thank you for taking poll.\n",
            "Sarah, thank you for taking poll.\n"
          ]
        }
      ]
    },
    {
      "cell_type": "code",
      "source": [
        "# Exercise 22 - Sort values in order\n",
        "# remove redundant value using set() function\n",
        "favorite_languages = {\n",
        "    'jen': 'python',\n",
        "    'sarah': 'c',\n",
        "    'edward': 'ruby',\n",
        "    'phil': 'python',\n",
        "    }\n",
        "\n",
        "#Print a introductory messgae\n",
        "print(\"The following languages have been mentioned\")\n",
        "\n",
        "#Create a for loop to print a message\n",
        "#Use sorted() function to sort the values in reverse alphabetical order\n",
        "#Use set() function to remove redundant values\n",
        "\n",
        "for name in sorted(set(favorite_languages.values()), reverse=True):\n",
        "    print(name.title())"
      ],
      "metadata": {
        "colab": {
          "base_uri": "https://localhost:8080/"
        },
        "id": "qkos0Ky8Nv5h",
        "outputId": "02833103-fc51-4ef2-b167-69bab06642e6"
      },
      "execution_count": 27,
      "outputs": [
        {
          "output_type": "stream",
          "name": "stdout",
          "text": [
            "The following languages have been mentioned\n",
            "Ruby\n",
            "Python\n",
            "C\n"
          ]
        }
      ]
    },
    {
      "cell_type": "code",
      "source": [
        "# Exercise 23 - append new data into dictionary using function\n",
        "# Make an empty list for storing aliens.\n",
        "aliens = []\n",
        "\n",
        "# Create a for loop to make 30 green aliens\n",
        "# Store in a variable named new_alien\n",
        "# Using the append () function\n",
        "\n",
        "for alien_number in range(30):\n",
        "    new_alien = {'color':'green', 'points':5, 'speed':'slow'}\n",
        "    aliens.append(new_alien)\n",
        "\n",
        "# Create a for loop and if-elif statement\n",
        "for alien in aliens[0:3]: #the first three alien\n",
        "    if alien['color'] == 'green':\n",
        "        alien['color'] = 'yellow'\n",
        "        alien['speed'] = 'medium'\n",
        "        alien ['points'] = 10\n",
        "    elif alien['color'] == 'yellow':\n",
        "        alien['color'] = 'red'\n",
        "        alien['speed'] = 'fast'\n",
        "        alien['points'] = '5'\n",
        "\n",
        "# Show first 5 aliens using a for loop\n",
        "for alien in aliens[0:5]:\n",
        "    print(alien)\n",
        "\n",
        "# Show how many aliens have been created using the len() function\n",
        "print(\"\\n..............\\n\")\n",
        "print(\"Total number of aliens: \" + str(len(aliens)) + \".\")\n"
      ],
      "metadata": {
        "colab": {
          "base_uri": "https://localhost:8080/"
        },
        "id": "AEQIFxRJQMkY",
        "outputId": "f22aa241-cff3-432c-88a0-6cfaf864cd94"
      },
      "execution_count": 44,
      "outputs": [
        {
          "output_type": "stream",
          "name": "stdout",
          "text": [
            "{'color': 'yellow', 'points': 10, 'speed': 'medium'}\n",
            "{'color': 'yellow', 'points': 10, 'speed': 'medium'}\n",
            "{'color': 'yellow', 'points': 10, 'speed': 'medium'}\n",
            "{'color': 'green', 'points': 5, 'speed': 'slow'}\n",
            "{'color': 'green', 'points': 5, 'speed': 'slow'}\n",
            "\n",
            "..............\n",
            "\n",
            "Total number of aliens: 30.\n"
          ]
        }
      ]
    },
    {
      "cell_type": "code",
      "source": [
        "aliens"
      ],
      "metadata": {
        "colab": {
          "base_uri": "https://localhost:8080/"
        },
        "id": "ASL5ZKMEOQlK",
        "outputId": "9581af5d-2dd7-4f4f-a6db-5dd15482afa9"
      },
      "execution_count": 29,
      "outputs": [
        {
          "output_type": "execute_result",
          "data": {
            "text/plain": [
              "[{'color': 'green', 'points': 5, 'speed': 'slow'},\n",
              " {'color': 'green', 'points': 5, 'speed': 'slow'},\n",
              " {'color': 'green', 'points': 5, 'speed': 'slow'},\n",
              " {'color': 'green', 'points': 5, 'speed': 'slow'},\n",
              " {'color': 'green', 'points': 5, 'speed': 'slow'},\n",
              " {'color': 'green', 'points': 5, 'speed': 'slow'},\n",
              " {'color': 'green', 'points': 5, 'speed': 'slow'},\n",
              " {'color': 'green', 'points': 5, 'speed': 'slow'},\n",
              " {'color': 'green', 'points': 5, 'speed': 'slow'},\n",
              " {'color': 'green', 'points': 5, 'speed': 'slow'},\n",
              " {'color': 'green', 'points': 5, 'speed': 'slow'},\n",
              " {'color': 'green', 'points': 5, 'speed': 'slow'},\n",
              " {'color': 'green', 'points': 5, 'speed': 'slow'},\n",
              " {'color': 'green', 'points': 5, 'speed': 'slow'},\n",
              " {'color': 'green', 'points': 5, 'speed': 'slow'},\n",
              " {'color': 'green', 'points': 5, 'speed': 'slow'},\n",
              " {'color': 'green', 'points': 5, 'speed': 'slow'},\n",
              " {'color': 'green', 'points': 5, 'speed': 'slow'},\n",
              " {'color': 'green', 'points': 5, 'speed': 'slow'},\n",
              " {'color': 'green', 'points': 5, 'speed': 'slow'},\n",
              " {'color': 'green', 'points': 5, 'speed': 'slow'},\n",
              " {'color': 'green', 'points': 5, 'speed': 'slow'},\n",
              " {'color': 'green', 'points': 5, 'speed': 'slow'},\n",
              " {'color': 'green', 'points': 5, 'speed': 'slow'},\n",
              " {'color': 'green', 'points': 5, 'speed': 'slow'},\n",
              " {'color': 'green', 'points': 5, 'speed': 'slow'},\n",
              " {'color': 'green', 'points': 5, 'speed': 'slow'},\n",
              " {'color': 'green', 'points': 5, 'speed': 'slow'},\n",
              " {'color': 'green', 'points': 5, 'speed': 'slow'},\n",
              " {'color': 'green', 'points': 5, 'speed': 'slow'}]"
            ]
          },
          "metadata": {},
          "execution_count": 29
        }
      ]
    },
    {
      "cell_type": "code",
      "source": [
        "\n",
        "# Exercise 24 - A list in the dictionary\n",
        "# Store information about a pizza being ordered.\n",
        "pizza = {\n",
        "    'crust': 'thick',\n",
        "    'toppings': ['mushrooms', 'extra cheese'],\n",
        "    }\n",
        "\n",
        "# Summarize the order.\n",
        "# By having the following message printed out\n",
        "# Use print () and a for loop\n",
        "\n",
        "for x in pizza.keys():\n",
        "    if x == 'crust':\n",
        "        print(\"You ordered a \" + pizza['crust'] +\" - \" + x + \" pizza with the following toppings \")\n",
        "    else:\n",
        "        for topping in pizza['toppings']:\n",
        "            print(\"\\t\" + topping + \".\")"
      ],
      "metadata": {
        "id": "iA-z9NxRDixp",
        "colab": {
          "base_uri": "https://localhost:8080/"
        },
        "outputId": "d9586832-8113-40d6-8647-46ac87ff5766"
      },
      "execution_count": 55,
      "outputs": [
        {
          "output_type": "stream",
          "name": "stdout",
          "text": [
            "You ordered a thick - crust pizza with the following toppings \n",
            "\tmushrooms.\n",
            "\textra cheese.\n"
          ]
        }
      ]
    },
    {
      "cell_type": "code",
      "source": [
        "# Exercise 25 - a lists in the dictionary\n",
        "\n",
        "#Given the following fav prog dictionary\n",
        "favorite_languages = {\n",
        "    'jen':['python', 'ruby'],\n",
        "    'sarah': ['c'],\n",
        "    'edward': ['ruby', 'go'],\n",
        "    'phil': ['python', 'haskell'],\n",
        "    }\n",
        "\n",
        "# Create a two for loops to print a message\n",
        "# Use items() function to access the key-value pair in dictionary\n",
        "# Use tehe keyowrd in\n",
        "\n",
        "for name in favorite_languages.keys():\n",
        "    print(\"\\n\"+ name.title() + \"'s favorite language are:\")\n",
        "    for x in favorite_languages[name]:\n",
        "        print(\"\\t\" + x.title() + \".\")\n",
        "\n",
        "#Dr.'s answer\n",
        "for name, language in favorite_languages.items():\n",
        "    print(\"\\n\"+ name.title() + \"'s favorite language are:\")\n",
        "    for language in language:\n",
        "        print(\"\\t\" + language.title() + \".\")\n"
      ],
      "metadata": {
        "id": "q0MODSGDFsgU",
        "colab": {
          "base_uri": "https://localhost:8080/"
        },
        "outputId": "99dd7333-581a-486a-fe77-3df8151ef0c0"
      },
      "execution_count": 63,
      "outputs": [
        {
          "output_type": "stream",
          "name": "stdout",
          "text": [
            "\n",
            "Jen's favorite language are:\n",
            "\tPython.\n",
            "\tRuby.\n",
            "\n",
            "Sarah's favorite language are:\n",
            "\tC.\n",
            "\n",
            "Edward's favorite language are:\n",
            "\tRuby.\n",
            "\tGo.\n",
            "\n",
            "Phil's favorite language are:\n",
            "\tPython.\n",
            "\tHaskell.\n",
            "\n",
            "Jen's favorite language are:\n",
            "\tPython.\n",
            "\tRuby.\n",
            "\n",
            "Sarah's favorite language are:\n",
            "\tC.\n",
            "\n",
            "Edward's favorite language are:\n",
            "\tRuby.\n",
            "\tGo.\n",
            "\n",
            "Phil's favorite language are:\n",
            "\tPython.\n",
            "\tHaskell.\n"
          ]
        }
      ]
    },
    {
      "cell_type": "code",
      "source": [
        "# Exercise 26 - A dictionary in a dictionary\n",
        "# Given the following famous scientist dictionary\n",
        "\n",
        "user = {\n",
        "    'aeinstein': {\n",
        "        'first':'albert',\n",
        "        'last': 'einstein',\n",
        "        'location': 'princeton',\n",
        "    },\n",
        "    'mcurie': {\n",
        "        'first':'marie',\n",
        "        'last': 'curie',\n",
        "        'location':'paris',\n",
        "    },\n",
        "}\n",
        "\n",
        "# Create a for loop to print the message\n",
        "# Use the items() function to access the key-value pairs in the dictionary\n",
        "\n",
        "#Dr. answer:\n",
        "for name, details in user.items():\n",
        "    print(\"\\n\"+ \"Username: \" + name)\n",
        "    full_name = details['first'] + \" \" + details['last']\n",
        "    location = details['location']\n",
        "\n",
        "    print(\"\\tFull name: \" + full_name.title())\n",
        "    print(\"\\tLocation: \" + location.title())"
      ],
      "metadata": {
        "id": "wWibIDl0Gw2O",
        "colab": {
          "base_uri": "https://localhost:8080/"
        },
        "outputId": "0051c8a3-d0f8-4ab9-d519-f931a7222882"
      },
      "execution_count": 86,
      "outputs": [
        {
          "output_type": "stream",
          "name": "stdout",
          "text": [
            "\n",
            "Username: aeinstein\n",
            "\tFull name: Albert Einstein\n",
            "\tLocation: Princeton\n",
            "\n",
            "Username: mcurie\n",
            "\tFull name: Marie Curie\n",
            "\tLocation: Paris\n"
          ]
        }
      ]
    },
    {
      "cell_type": "code",
      "source": [
        "# Exercise 27 - using input() ##this is for assignment\n",
        "\n",
        "# Print out the message\n",
        "message = input(\"Tell me something, and I will repeat it back to you: \")\n",
        "print(message + \"\\n\")\n",
        "\n",
        "# Use the input() function to get user's name\n",
        "# print out the message\n",
        "name = input(\"Please tell me your name: \")\n",
        "print(\"Hello, \" + name + \"!\\n\")\n",
        "\n",
        "#Use the input() function to get user's first name\n",
        "# print out the message\n",
        "msg = \"If you tell us who you are, we can personalize a messgae just for you.\"\n",
        "msg += \"\\nWhat is your first name\"\n",
        "\n",
        "name = input(msg)\n",
        "print(\"Hello, \"+ name +\"!\")"
      ],
      "metadata": {
        "id": "xY2CS0_CIEqr",
        "colab": {
          "base_uri": "https://localhost:8080/"
        },
        "outputId": "a9141d64-cd50-43ab-c68f-f0c45760503e"
      },
      "execution_count": 91,
      "outputs": [
        {
          "output_type": "stream",
          "name": "stdout",
          "text": [
            "Tell me something, and I will repeat it back to you: I'm learning something new today\n",
            "I'm learning something new today\n",
            "\n",
            "Please tell me your name: Suraya\n",
            "Hello, Suraya!\n",
            "\n",
            "If you tell us who you are, we can personalize a messgae just for you.\n",
            "What is your first nameSuraya\n",
            "Hello, Suraya!\n"
          ]
        }
      ]
    },
    {
      "cell_type": "code",
      "source": [
        "# Exercise 28 - using int() to accept numerical input: True of False\n",
        "\n",
        "# Using the input() to get the age of users\n",
        "# Test the input prompt for age by inputting the following info\n",
        "# 1) 18\n",
        "# 2) Eighteen\n",
        "age = input(\"How old are you? \")\n",
        "\n",
        "# Logical test\n",
        "# Would prompt an error\n",
        "#age >= 18\n",
        "\n",
        "# How to fix it?\n",
        "int(age) >= 18"
      ],
      "metadata": {
        "id": "uWq2dvg3JR6c",
        "colab": {
          "base_uri": "https://localhost:8080/"
        },
        "outputId": "3399d47c-6917-4546-fef1-0886b666de65"
      },
      "execution_count": 94,
      "outputs": [
        {
          "name": "stdout",
          "output_type": "stream",
          "text": [
            "How old are you? 18\n"
          ]
        },
        {
          "output_type": "execute_result",
          "data": {
            "text/plain": [
              "True"
            ]
          },
          "metadata": {},
          "execution_count": 94
        }
      ]
    },
    {
      "cell_type": "code",
      "source": [
        "# Exercise 29 - using int()to accept numerical input and check for certain condition\n",
        "# Create an input() function to get the height in cm from users\n",
        "# Use the int() to convert the height to numeric\n",
        "height=input(\"How tall are you, in cm? \")\n",
        "x = int(height)\n",
        "\n",
        "# Checking for condition using if-else statement\n",
        "# Print the following message\n",
        "\n",
        "if x <= 90:\n",
        "    print(\"\\nYou'll be able to ride when you're a little taller.\")\n",
        "else:\n",
        "    print(\"\\nYay! You can enjoy the ride.\")\n"
      ],
      "metadata": {
        "id": "XR0IMpnzK7Ne",
        "colab": {
          "base_uri": "https://localhost:8080/"
        },
        "outputId": "215551fa-7c4d-4cc7-b41d-d3b8fa0c77a6"
      },
      "execution_count": 96,
      "outputs": [
        {
          "output_type": "stream",
          "name": "stdout",
          "text": [
            "How tall are you, in cm? 100\n",
            "\n",
            "Yay! You can enjoy the ride\n"
          ]
        }
      ]
    },
    {
      "cell_type": "code",
      "source": [
        "# Exercise 30 - The modulo operator to print message\n",
        "# Use the input() and int() function to get a number from user\n",
        "\n",
        "number = input(\"Enter a number, and I'll tell you if it's even or odd: \")\n",
        "x = int(number)\n",
        "\n",
        "# Create an if-else statement to check whether the number given is an odd or even number\n",
        "# Use the modulo sign to check for odd and even condition\n",
        "\n",
        "if (x%2)==0:\n",
        "    print(\"Your number \" + str(x) + \" is even\")\n",
        "else:\n",
        "    print(\"Your number \" + str(x) + \" is odd\")"
      ],
      "metadata": {
        "id": "x9OlZPDYL2ne",
        "colab": {
          "base_uri": "https://localhost:8080/"
        },
        "outputId": "5bc2f0cf-8433-4814-aabb-e990fd43b2c8"
      },
      "execution_count": 102,
      "outputs": [
        {
          "output_type": "stream",
          "name": "stdout",
          "text": [
            "Enter a number, and I'll tell you if it's even or odd: 3\n",
            "Your number 3 is odd\n"
          ]
        }
      ]
    },
    {
      "cell_type": "markdown",
      "source": [
        "# **Exercise 31**: While loop"
      ],
      "metadata": {
        "id": "IAmr1AsLkGIQ"
      }
    },
    {
      "cell_type": "code",
      "source": [
        "# Define the current_number as 1\n",
        "current_number = 1\n",
        "\n",
        "# Use the while loop to increase the number\n",
        "# Print out the incremented number\n",
        "\n",
        "while current_number < 6:\n",
        "    print (current_number)\n",
        "    current_number += 1"
      ],
      "metadata": {
        "colab": {
          "base_uri": "https://localhost:8080/"
        },
        "id": "suDCKXLCjdup",
        "outputId": "adb6db85-e9c5-456d-b488-f24ebe92d0eb"
      },
      "execution_count": 103,
      "outputs": [
        {
          "output_type": "stream",
          "name": "stdout",
          "text": [
            "1\n",
            "2\n",
            "3\n",
            "4\n",
            "5\n"
          ]
        }
      ]
    },
    {
      "cell_type": "markdown",
      "source": [
        "# **Exercise 32**: let user choose when to quit"
      ],
      "metadata": {
        "id": "xM56eGcllIkR"
      }
    },
    {
      "cell_type": "code",
      "source": [
        "# Create a prompt message\n",
        "msg = \"\\nTell me something, and I will repeat it back to you: \"\n",
        "msg += \"\\nEnter 'quit' to end the program.\"\n",
        "\n",
        "# Define an empty message\n",
        "message = ''\n",
        "\n",
        "# Create a while loop to continuously getting response from users\n",
        "# Quit the while loop if user input 'quit'\n",
        "\n",
        "while message != 'quit':\n",
        "    message = input(msg)\n",
        "\n",
        "    if message == 'quit':\n",
        "        print(message)"
      ],
      "metadata": {
        "colab": {
          "base_uri": "https://localhost:8080/"
        },
        "id": "hSH4AM-7lIEK",
        "outputId": "2ade9983-5902-4264-c948-5e55a32aff01"
      },
      "execution_count": 115,
      "outputs": [
        {
          "output_type": "stream",
          "name": "stdout",
          "text": [
            "\n",
            "Tell me something, and I will repeat it back to you: \n",
            "Enter 'quit' to end the program.quit\n",
            "quit\n"
          ]
        }
      ]
    },
    {
      "cell_type": "markdown",
      "source": [
        "# **Excersie 33**: Using a flag as a signal"
      ],
      "metadata": {
        "id": "WQwbAw_Cm3Ki"
      }
    },
    {
      "cell_type": "code",
      "source": [
        "# Create a prompt message\n",
        "prompt = \"\\nTell me something, and I will repeat it back to you:\"\n",
        "prompt += \"\\nEnter 'quit' to end the program. \"\n",
        "\n",
        "# Define a flag\n",
        "active = True # this is the flag that i said just now\n",
        "\n",
        "# Incorporate the flag in the while loop\n",
        "while active:\n",
        "    message = input(prompt)\n",
        "    if message == 'quit':\n",
        "        active = False\n",
        "    else:\n",
        "        print(message)"
      ],
      "metadata": {
        "colab": {
          "base_uri": "https://localhost:8080/"
        },
        "id": "OIcZAgHBm21R",
        "outputId": "8eb9a5f5-d24e-48df-b060-50564c70675c"
      },
      "execution_count": 114,
      "outputs": [
        {
          "name": "stdout",
          "output_type": "stream",
          "text": [
            "\n",
            "Tell me something, and I will repeat it back to you:\n",
            "Enter 'quit' to end the program. quit\n"
          ]
        }
      ]
    },
    {
      "cell_type": "markdown",
      "source": [
        "# **Exercise 34**: Using break to exit loop"
      ],
      "metadata": {
        "id": "TMNvvCX5oLTX"
      }
    },
    {
      "cell_type": "code",
      "source": [
        "# Create a prompt message\n",
        "prompt = \"\\nPlease enter the name of a city you have visited:\"\n",
        "prompt += \"\\n(Enter 'quit' when you are finished.) \"\n",
        "\n",
        "# Create a while loop and incorporate a flag\n",
        "# Print the message\n",
        "while True:\n",
        "    city = input(prompt)\n",
        "\n",
        "    if city == 'quit':\n",
        "        break\n",
        "    else:\n",
        "        print(\"I'd love to go to \" + city.title() + \"!\")\n"
      ],
      "metadata": {
        "id": "59SuFIunoMB4",
        "outputId": "fa4ef32e-b6c5-416f-9790-7e3209b955b4",
        "colab": {
          "base_uri": "https://localhost:8080/"
        }
      },
      "execution_count": 113,
      "outputs": [
        {
          "name": "stdout",
          "output_type": "stream",
          "text": [
            "\n",
            "Please enter the name of a city you have visited:\n",
            "(Enter 'quit' when you are finished.) Kuala Lumpur\n",
            "I'd love to go to Kuala Lumpur!\n",
            "\n",
            "Please enter the name of a city you have visited:\n",
            "(Enter 'quit' when you are finished.) new yourk\n",
            "I'd love to go to New Yourk!\n",
            "\n",
            "Please enter the name of a city you have visited:\n",
            "(Enter 'quit' when you are finished.) quit\n"
          ]
        }
      ]
    },
    {
      "cell_type": "markdown",
      "source": [
        "# **Exerce 35**: Using continue in a loop"
      ],
      "metadata": {
        "id": "d3OQJcAqou7x"
      }
    },
    {
      "cell_type": "code",
      "source": [
        "# Define current_number as 0\n",
        "\n",
        "current_number = 0\n",
        "\n",
        "# Create a while loop to update current_number plus 1\n",
        "# Continue the while loop without increment if it is an even number\n",
        "# Use the modulo sign in this case\n",
        "# Print out the message\n",
        "\n",
        "\n",
        "while current_number < 10:\n",
        "    current_number += 1\n",
        "    if current_number%2==0:\n",
        "        continue\n",
        "    print(current_number)"
      ],
      "metadata": {
        "id": "XwZ5dJc6ouPh",
        "outputId": "2f7f5daf-c4fd-4d33-bd0f-415d5d30e307",
        "colab": {
          "base_uri": "https://localhost:8080/"
        }
      },
      "execution_count": 134,
      "outputs": [
        {
          "output_type": "stream",
          "name": "stdout",
          "text": [
            "1\n",
            "3\n",
            "5\n",
            "7\n",
            "9\n"
          ]
        }
      ]
    },
    {
      "cell_type": "markdown",
      "source": [
        "# **Exercise 36**: Using pop() function to move Items"
      ],
      "metadata": {
        "id": "cZwm5VLVq3-7"
      }
    },
    {
      "cell_type": "code",
      "source": [
        "# Start with users that need to be verified - unconfirmed_users\n",
        "# Create an empty list to hold confirmed users\n",
        "unconfirmed_users = ['alice', 'brian', 'candace']\n",
        "confirmed_users = []\n",
        "\n",
        "# Verify each user until there are no more unconfirmed users\n",
        "# Move each verified user into the list of confirmed users\n",
        "# By using the while loop\n",
        "# Incorporate the pop() and append() function\n",
        "\n",
        "while unconfirmed_users:\n",
        "     current_user = unconfirmed_users.pop()\n",
        "\n",
        "     print(\"Verifying user: \" + current_user.title())\n",
        "     confirmed_users.append(current_user)\n",
        "\n",
        "# Display all confirmed users\n",
        "# Incorporate for loop in this case\n",
        "print(\"\\nThe following users have been confirmed: \")\n",
        "for confirmed_users in confirmed_users:\n",
        "    print(confirmed_users.title())\n",
        "\n",
        "# Print the final unconfirmed_users list\n",
        "print(\"\\nThe final unconfirmed users are:\")\n",
        "print(unconfirmed_users)"
      ],
      "metadata": {
        "id": "B5KWh8QVq7-Y",
        "outputId": "71c8a059-02ef-4606-b16a-d93c604061c7",
        "colab": {
          "base_uri": "https://localhost:8080/"
        }
      },
      "execution_count": 140,
      "outputs": [
        {
          "output_type": "stream",
          "name": "stdout",
          "text": [
            "Verifying user: Candace\n",
            "Verifying user: Brian\n",
            "Verifying user: Alice\n",
            "\n",
            "The following users have been confirmed: \n",
            "Candace\n",
            "Brian\n",
            "Alice\n",
            "\n",
            "The final unconfirmed users are:\n",
            "[]\n"
          ]
        }
      ]
    },
    {
      "cell_type": "markdown",
      "source": [
        "# **Exercise 37**: Removing All Instances of Specific Values from a List"
      ],
      "metadata": {
        "id": "3Ekp2HcwtIrB"
      }
    },
    {
      "cell_type": "code",
      "source": [
        "# Given the list of pets\n",
        "pets = ['dog', 'cat', 'dog', 'goldfish', 'cat', 'rabbit', 'cat']\n",
        "\n",
        "# Print out the list of pets available\n",
        "print(pets)\n",
        "\n",
        "# Use a while loop to remove a pet dog if it is in the list\n",
        "# Use the remove() function\n",
        "# print out the final list of pets\n",
        "\n",
        "while 'dog' in pets:\n",
        "    pets.remove('dog')\n",
        "print (pets)\n",
        "\n",
        "while x=='dog' in pets:\n",
        "    pets.remove('dog')\n",
        "print(pets)\n"
      ],
      "metadata": {
        "id": "PRQAo-zysuUK",
        "outputId": "b236b5bd-b8e7-4301-836e-ab7b45008df9",
        "colab": {
          "base_uri": "https://localhost:8080/"
        }
      },
      "execution_count": 143,
      "outputs": [
        {
          "output_type": "stream",
          "name": "stdout",
          "text": [
            "['dog', 'cat', 'dog', 'goldfish', 'cat', 'rabbit', 'cat']\n",
            "['cat', 'goldfish', 'cat', 'rabbit', 'cat']\n",
            "['cat', 'goldfish', 'cat', 'rabbit', 'cat']\n"
          ]
        }
      ]
    },
    {
      "cell_type": "markdown",
      "source": [
        "# **Exercise 38**: Filling a Dictionary with User Input\n",
        "\n",
        "assignment"
      ],
      "metadata": {
        "id": "McJOpA3ptfDp"
      }
    },
    {
      "cell_type": "code",
      "source": [
        "# Define an empty library named responses\n",
        "responses = {}\n",
        "\n",
        "# Set a flag to indicate that polling is active.\n",
        "polling = True\n",
        "\n",
        "# Use a while loop\n",
        "while polling:\n",
        "    name = input(\"\\nWhat is your name? \")\n",
        "    response = input(\"\\nWhich mountain would you like to conquer in near future? \")\n",
        "\n",
        "    # Store these response in the library\n",
        "    # name here is the key, response here is the value in the library\n",
        "    responses[name] = response\n",
        "\n",
        "    # Find out who else wanted to conquer a mountain.\n",
        "    repeat = input(\"\\nWould you like to invite your better half to conquer together? (yes / no) \")\n",
        "    if repeat == 'no':\n",
        "        polling = False\n",
        "\n",
        "# Polling is complete. Show the results.\n",
        "print(\"\\n --- Poll Results ---\\n\")\n",
        "for name, bukit in responses.items():\n",
        "    print(name + \" would like to climb \" + bukit.title() + \".\")\n",
        "\n",
        "# Print out the final responses dictionary\n",
        "print(\"\\nThe lastest responses library is like this\")\n",
        "print(responses.items())"
      ],
      "metadata": {
        "id": "EEh7IPgiteZ1",
        "outputId": "42099fe5-9dd2-45f0-dd85-c9c9bd7fcb66",
        "colab": {
          "base_uri": "https://localhost:8080/"
        }
      },
      "execution_count": 154,
      "outputs": [
        {
          "output_type": "stream",
          "name": "stdout",
          "text": [
            "\n",
            "What is your name? suraya\n",
            "\n",
            "Which mountain would you like to conquer in near future? bukit\n",
            "\n",
            "Would you like to invite your better half to conquer together? (yes / no) yes\n",
            "\n",
            "What is your name? maslina\n",
            "\n",
            "Which mountain would you like to conquer in near future? pakistan\n",
            "\n",
            "Would you like to invite your better half to conquer together? (yes / no) no\n",
            "\n",
            " --- Poll Results ---\n",
            "\n",
            "suraya would like to climb Bukit.\n",
            "maslina would like to climb Pakistan.\n",
            "\n",
            "The lastest responses library is like this\n",
            "dict_items([('suraya', 'bukit'), ('maslina', 'pakistan')])\n"
          ]
        }
      ]
    }
  ]
}