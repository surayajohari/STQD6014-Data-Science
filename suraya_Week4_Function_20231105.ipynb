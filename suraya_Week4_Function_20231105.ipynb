{
  "nbformat": 4,
  "nbformat_minor": 0,
  "metadata": {
    "colab": {
      "provenance": [],
      "include_colab_link": true
    },
    "kernelspec": {
      "name": "python3",
      "display_name": "Python 3"
    },
    "language_info": {
      "name": "python"
    }
  },
  "cells": [
    {
      "cell_type": "markdown",
      "metadata": {
        "id": "view-in-github",
        "colab_type": "text"
      },
      "source": [
        "<a href=\"https://colab.research.google.com/github/surayajohari/STQD6014-Data-Science/blob/main/suraya_Week4_Function_20231105.ipynb\" target=\"_parent\"><img src=\"https://colab.research.google.com/assets/colab-badge.svg\" alt=\"Open In Colab\"/></a>"
      ]
    },
    {
      "cell_type": "markdown",
      "source": [
        "# **Week 04: Function**"
      ],
      "metadata": {
        "id": "xDWtjtCRv5nM"
      }
    },
    {
      "cell_type": "markdown",
      "source": [
        "# **Exercise 1**: Define a function, as well as adding in ***docstring***"
      ],
      "metadata": {
        "id": "IlALFMKBxFxq"
      }
    },
    {
      "cell_type": "code",
      "execution_count": 63,
      "metadata": {
        "id": "IkiFITWFAN5g"
      },
      "outputs": [],
      "source": [
        "# Define a greet_user function\n",
        "# Use the docstring in triple quotes to explain what your function would like to do\n",
        "# Always remember to put this docstring\n",
        "def greet_user():\n",
        "    \"\"\"Display a simple greeting\"\"\"\n",
        "    print(\"Hello!\")"
      ]
    },
    {
      "cell_type": "code",
      "source": [
        "# Call the greet_user function\n",
        "greet_user()"
      ],
      "metadata": {
        "colab": {
          "base_uri": "https://localhost:8080/"
        },
        "id": "Ck9cmWJQ8nI9",
        "outputId": "afaa41f5-8ee4-4267-832e-0683338366d7"
      },
      "execution_count": 64,
      "outputs": [
        {
          "output_type": "stream",
          "name": "stdout",
          "text": [
            "Hello!\n"
          ]
        }
      ]
    },
    {
      "cell_type": "code",
      "source": [
        "#Looking for documentation about great_user() function\n",
        "help (greet_user)"
      ],
      "metadata": {
        "colab": {
          "base_uri": "https://localhost:8080/"
        },
        "id": "g-ma95XnQ2wX",
        "outputId": "fbc5b8c7-5866-43ff-852d-6f08174d2e6f"
      },
      "execution_count": 65,
      "outputs": [
        {
          "output_type": "stream",
          "name": "stdout",
          "text": [
            "Help on function greet_user in module __main__:\n",
            "\n",
            "greet_user()\n",
            "    Display a simple greeting\n",
            "\n"
          ]
        }
      ]
    },
    {
      "cell_type": "markdown",
      "source": [
        "# **Docstring**\n",
        "A Python docstring is a string used to document a Python module, class, function or method, so programmers can understand what it does without having to read the details of the implementation. Please visit this link for more information about docstring: https://pandas.pydata.org/docs/development/contributing_docstring.html"
      ],
      "metadata": {
        "id": "PRMGVvQhyDzY"
      }
    },
    {
      "cell_type": "markdown",
      "source": [
        "# **Exercise 2**: Passing *parameter* and *arguments* to a Function"
      ],
      "metadata": {
        "id": "cfszVmi5xi80"
      }
    },
    {
      "cell_type": "code",
      "source": [
        "# Define a greet_user function\n",
        "# Add parameter to the greet_user function\n",
        "def greet_user(username): # <- username here is the parameter\n",
        "    \"\"\"Display a simple greeting\"\"\"\n",
        "    print(\"Hello \" + username.title() +\"!\")\n",
        "\n",
        "#Provide an argument to greet_user function\n",
        "greet_user('Suraya') # <- Suraya ghere is an argument"
      ],
      "metadata": {
        "colab": {
          "base_uri": "https://localhost:8080/"
        },
        "id": "UP1WYL-vB5nr",
        "outputId": "f99ffb93-7b8a-42c9-803f-6579aae51a88"
      },
      "execution_count": 8,
      "outputs": [
        {
          "output_type": "stream",
          "name": "stdout",
          "text": [
            "Hello Suraya !\n"
          ]
        }
      ]
    },
    {
      "cell_type": "markdown",
      "source": [
        "# **Exercise 3**: Positional Arguments"
      ],
      "metadata": {
        "id": "WGpVqCD4zy0i"
      }
    },
    {
      "cell_type": "code",
      "source": [
        "# Define a describe_pet function\n",
        "def describe_pet(animal_type, pet_name):\n",
        "    \"\"\"Display information about a pet.\"\"\"\n",
        "    print(\"I have a \" + animal_type + \".\")\n",
        "    print(\"My \" + animal_type + \"'s name is \" + pet_name.title() + \".\\n\")"
      ],
      "metadata": {
        "id": "-IRdYt6QFcCx"
      },
      "execution_count": 11,
      "outputs": []
    },
    {
      "cell_type": "code",
      "source": [
        "# Test the describe_pet function\n",
        "# The order of the positional arguments matters\n",
        "describe_pet(\"thompson\", \"gold fish\") # <- order if the positional argument is important"
      ],
      "metadata": {
        "colab": {
          "base_uri": "https://localhost:8080/"
        },
        "id": "PEXMbSAN-iBU",
        "outputId": "9e72dd21-0d7d-419c-c74f-6ba88cdeb3a2"
      },
      "execution_count": 12,
      "outputs": [
        {
          "output_type": "stream",
          "name": "stdout",
          "text": [
            "I have a thompson.\n",
            "My thompson's name is Gold Fish.\n",
            "\n"
          ]
        }
      ]
    },
    {
      "cell_type": "code",
      "source": [
        "# To solve the above error\n",
        "describe_pet(\"cat\", \"luna\")"
      ],
      "metadata": {
        "colab": {
          "base_uri": "https://localhost:8080/"
        },
        "id": "LhOWDVUZUHXP",
        "outputId": "9231154f-b930-4673-f560-40f76a0e3b84"
      },
      "execution_count": 15,
      "outputs": [
        {
          "output_type": "stream",
          "name": "stdout",
          "text": [
            "I have a cat.\n",
            "My cat's name is Luna.\n",
            "\n"
          ]
        }
      ]
    },
    {
      "cell_type": "code",
      "source": [
        "# Getting help on the describe_pet function\n",
        "help(describe_pet)"
      ],
      "metadata": {
        "colab": {
          "base_uri": "https://localhost:8080/"
        },
        "id": "oxhFylyf-8eU",
        "outputId": "2f5aa5cb-069d-40bb-c947-1e7e329d478f"
      },
      "execution_count": 16,
      "outputs": [
        {
          "output_type": "stream",
          "name": "stdout",
          "text": [
            "Help on function describe_pet in module __main__:\n",
            "\n",
            "describe_pet(animal_type, pet_name)\n",
            "    Display information about a pet.\n",
            "\n"
          ]
        }
      ]
    },
    {
      "cell_type": "markdown",
      "source": [
        "# **Exercise 4**: Keyword arguments"
      ],
      "metadata": {
        "id": "ZViIdqbl0605"
      }
    },
    {
      "cell_type": "code",
      "source": [
        "# Define the describe_pet function\n",
        "def describe_pet(animal_type, pet_name):\n",
        "    \"\"\"Display information about a pet.\"\"\"\n",
        "    print(\"I have a \" + animal_type + \".\")\n",
        "    print(\"My \" + animal_type + \"'s name is \" + pet_name.title() + \".\\n\")"
      ],
      "metadata": {
        "id": "XVdLsYeJH2qR"
      },
      "execution_count": null,
      "outputs": []
    },
    {
      "cell_type": "code",
      "source": [
        "# Define the argument explicitly\n",
        "# In this case, the order of the argument do not matter\n",
        "describe_pet(pet_name = \"harry\", animal_type = \"hamster\")"
      ],
      "metadata": {
        "colab": {
          "base_uri": "https://localhost:8080/"
        },
        "id": "qPzpjhiMULst",
        "outputId": "d6906377-40ca-4ffa-ddf7-7f26a29bd777"
      },
      "execution_count": 17,
      "outputs": [
        {
          "output_type": "stream",
          "name": "stdout",
          "text": [
            "I have a hamster.\n",
            "My hamster's name is Harry.\n",
            "\n"
          ]
        }
      ]
    },
    {
      "cell_type": "markdown",
      "source": [
        "# **Exercise 5**: Default values"
      ],
      "metadata": {
        "id": "SFOVF2k25L-o"
      }
    },
    {
      "cell_type": "code",
      "source": [
        "# Adding default value for parameter in a function\n",
        "# Parameter with a default value needs to be listed after all the parameters that don’t have default values\n",
        "def describe_pet(pet_name, animal_type = \"lion\"):\n",
        "    \"\"\"Display information about a pet.\"\"\"\n",
        "    print(\"I have a \" + animal_type + \".\")\n",
        "    print(\"My \" + animal_type + \"'s name is \" + pet_name.title() + \".\\n\")"
      ],
      "metadata": {
        "id": "BNvwMSVwIlI4"
      },
      "execution_count": 18,
      "outputs": []
    },
    {
      "cell_type": "code",
      "source": [
        "# Order of the positional argument matter: 1\n",
        "describe_pet(pet_name = 'Simba')"
      ],
      "metadata": {
        "colab": {
          "base_uri": "https://localhost:8080/"
        },
        "id": "4r7XV52fUeGh",
        "outputId": "dc556b45-293f-468b-e961-61d57ea5a500"
      },
      "execution_count": 19,
      "outputs": [
        {
          "output_type": "stream",
          "name": "stdout",
          "text": [
            "I have a lion.\n",
            "My lion's name is Simba.\n",
            "\n"
          ]
        }
      ]
    },
    {
      "cell_type": "code",
      "source": [
        "# Order of the positional argument matter: 2\n",
        "describe_pet('goldie')"
      ],
      "metadata": {
        "colab": {
          "base_uri": "https://localhost:8080/"
        },
        "id": "Ac6Vr0lPU6hA",
        "outputId": "a65f92e1-7fbd-4d87-f9c5-6b7c937050c5"
      },
      "execution_count": 20,
      "outputs": [
        {
          "output_type": "stream",
          "name": "stdout",
          "text": [
            "I have a lion.\n",
            "My lion's name is Goldie.\n",
            "\n"
          ]
        }
      ]
    },
    {
      "cell_type": "code",
      "source": [
        "# Solve this together\n",
        "describe_pet('goldie', 'gold fish')"
      ],
      "metadata": {
        "colab": {
          "base_uri": "https://localhost:8080/"
        },
        "id": "cyAezdWtVAuk",
        "outputId": "3fab8aaa-4c76-48b3-f687-9effd5c84ce7"
      },
      "execution_count": 22,
      "outputs": [
        {
          "output_type": "stream",
          "name": "stdout",
          "text": [
            "I have a gold fish.\n",
            "My gold fish's name is Goldie.\n",
            "\n"
          ]
        }
      ]
    },
    {
      "cell_type": "code",
      "source": [
        "# Another example\n",
        "# Provide argument value in the correct order\n",
        "describe_pet(\"cat\",\"Coco\")"
      ],
      "metadata": {
        "colab": {
          "base_uri": "https://localhost:8080/"
        },
        "id": "cM9TMx0WKe3L",
        "outputId": "6ebff959-6ab0-43be-d97f-f2f466af5391"
      },
      "execution_count": 25,
      "outputs": [
        {
          "output_type": "stream",
          "name": "stdout",
          "text": [
            "I have a Coco.\n",
            "My Coco's name is Cat.\n",
            "\n"
          ]
        }
      ]
    },
    {
      "cell_type": "markdown",
      "source": [
        "# **Exercise 6**: Provide a variable where the *return value* can be stored.\n",
        "\n",
        "assignment"
      ],
      "metadata": {
        "id": "9Qv0uwI18l_K"
      }
    },
    {
      "cell_type": "code",
      "source": [
        "# Define a function named get_formatted_name\n",
        "# This function will return a value\n",
        "def get_formatted_name(first_name, last_name):\n",
        "    \"\"\"Return a full name, neatly formatted\"\"\"\n",
        "    full_name = first_name + ' ' + last_name #full_name here is the variable to store the names of the users\n",
        "    return full_name.title()\n"
      ],
      "metadata": {
        "id": "fjWqvKIJLkit"
      },
      "execution_count": 26,
      "outputs": []
    },
    {
      "cell_type": "code",
      "source": [
        "# Test the get_formatted_name function\n",
        "# Provide a variable for the returned full name\n",
        "musician = get_formatted_name(\"Suraya\", \"Johari\")\n",
        "print(musician)"
      ],
      "metadata": {
        "id": "IapBx7AgCHe8",
        "colab": {
          "base_uri": "https://localhost:8080/"
        },
        "outputId": "78929223-835e-4d62-e16f-dc81eeb902b1"
      },
      "execution_count": 28,
      "outputs": [
        {
          "output_type": "stream",
          "name": "stdout",
          "text": [
            "Suraya Johari\n"
          ]
        }
      ]
    },
    {
      "cell_type": "markdown",
      "source": [
        "# **Exercise 7**: Making an argument optional"
      ],
      "metadata": {
        "id": "Z6mRZXQH9azm"
      }
    },
    {
      "cell_type": "code",
      "source": [
        "# Default value always goes last!\n",
        "#Use ifelse statement\n",
        "def get_formatted_name(first_name, last_name, middle_name = ' '):\n",
        "    \"\"\"Return a full name, neatly formated\"\"\"\n",
        "    if middle_name:\n",
        "        full_name = first_name + ' ' + middle_name + ' ' + last_name\n",
        "    else:\n",
        "        full_name = first_name + ' ' + last_name\n",
        "    return full_name.title()"
      ],
      "metadata": {
        "id": "Q8AyJMlZM5MA"
      },
      "execution_count": 44,
      "outputs": []
    },
    {
      "cell_type": "code",
      "source": [
        "# Function call 1\n",
        "musician = get_formatted_name(\"Suraya\", \"Johari\")\n",
        "print(musician)"
      ],
      "metadata": {
        "colab": {
          "base_uri": "https://localhost:8080/"
        },
        "id": "QMS7Cp88Dqcz",
        "outputId": "af6ab767-fe45-4805-8e46-431583892a11"
      },
      "execution_count": 52,
      "outputs": [
        {
          "output_type": "stream",
          "name": "stdout",
          "text": [
            "Suraya   Johari\n"
          ]
        }
      ]
    },
    {
      "cell_type": "code",
      "source": [
        "# Function call 2\n",
        "musician = get_formatted_name(\"Suraya\", \"Johari\", \"Adnin\")\n",
        "print(musician)"
      ],
      "metadata": {
        "colab": {
          "base_uri": "https://localhost:8080/"
        },
        "id": "r3Cf6BtNXYnI",
        "outputId": "22442a48-d2dd-4d38-ca61-13a7976891d1"
      },
      "execution_count": 38,
      "outputs": [
        {
          "output_type": "stream",
          "name": "stdout",
          "text": [
            "Suraya Adnin Johari\n"
          ]
        }
      ]
    },
    {
      "cell_type": "markdown",
      "source": [
        "# **Exercise 8**: Returning a dictionary\n",
        "\n",
        "assignment"
      ],
      "metadata": {
        "id": "lLlDqDvrjj2R"
      }
    },
    {
      "cell_type": "code",
      "source": [
        "# Define a function named build_person\n",
        "def build_person(first_name, last_name):\n",
        "    \"\"\"Return a dictionary of information about a person profile\"\"\"\n",
        "    person = {'first': first_name, 'last':last_name}\n",
        "    return person"
      ],
      "metadata": {
        "id": "HEvTY8j3ZQAD"
      },
      "execution_count": 46,
      "outputs": []
    },
    {
      "cell_type": "code",
      "source": [
        "# Test the build_person function\n",
        "# Create a variable named musician to collect information\n",
        "musician = build_person(\"Suraya\", \"Johari\")\n",
        "print(musician)"
      ],
      "metadata": {
        "colab": {
          "base_uri": "https://localhost:8080/"
        },
        "id": "M_d_w2FCEtes",
        "outputId": "61a35208-dd6e-4e3b-f120-a88c8c4ff95d"
      },
      "execution_count": 48,
      "outputs": [
        {
          "output_type": "stream",
          "name": "stdout",
          "text": [
            "{'first': 'Suraya', 'last': 'Johari'}\n"
          ]
        }
      ]
    },
    {
      "cell_type": "markdown",
      "source": [
        "# **Exercise 9**: accept optional values"
      ],
      "metadata": {
        "id": "KjYU_2E-kYON"
      }
    },
    {
      "cell_type": "code",
      "source": [
        "# Define the build_person function\n",
        "# Add in optional parameter age\n",
        "# using an if statemet\n",
        "def build_person(first_name, last_name, age = ''):\n",
        "    \"\"\"Return a dictionary of information about a person profile\"\"\"\n",
        "    person = {'first': first_name, 'last':last_name}\n",
        "    if age:\n",
        "        person['age']=age\n",
        "    return person"
      ],
      "metadata": {
        "id": "K75cMUYJZ0eD"
      },
      "execution_count": 55,
      "outputs": []
    },
    {
      "cell_type": "code",
      "source": [
        "# Test the build_person function\n",
        "musician = build_person(\"Suraya\", \"Johari\", \"21\")\n",
        "print(musician)"
      ],
      "metadata": {
        "colab": {
          "base_uri": "https://localhost:8080/"
        },
        "id": "iDs2WAEAFbeN",
        "outputId": "25c56a07-8859-4c08-e157-6a210c2752dc"
      },
      "execution_count": 56,
      "outputs": [
        {
          "output_type": "stream",
          "name": "stdout",
          "text": [
            "{'first': 'Suraya', 'last': 'Johari', 'age': '21'}\n"
          ]
        }
      ]
    },
    {
      "cell_type": "markdown",
      "source": [
        "# **Exercise 10**: Using a Function with a while loop\n",
        "\n",
        "assignment"
      ],
      "metadata": {
        "id": "CX7_XJIHlMu5"
      }
    },
    {
      "cell_type": "code",
      "source": [
        "# Define the get_formatted_name function\n",
        "def get_formatted_name(first_name, last_name):\n",
        "    \"\"\"Return a full name, neatly formatted\"\"\"\n",
        "    full_name = first_name + ' ' + last_name #full_name here is the variable to store the names of the users\n",
        "    return full_name.title()\n",
        "\n",
        "# Create an infinite loop!\n",
        "while True:\n",
        "    print(\"\\n Please tell me your name:\")\n",
        "    print(\"\\n(enter 'q' at any time to quit)\")\n",
        "\n",
        "    f_name = input(\"First name:\")\n",
        "    if f_name == 'q':\n",
        "        break\n",
        "\n",
        "    l_name = input(\"Last name:\")\n",
        "    if f_name == 'q':\n",
        "        break\n",
        "\n",
        "    formatted_name = get_formatted_name(f_name, l_name) # overwrite the first_name and last_name in get_formatted_name function\n",
        "    print(\"\\nHello,\" + formatted_name + \"!\")"
      ],
      "metadata": {
        "id": "DZ0vy89RaaVp",
        "colab": {
          "base_uri": "https://localhost:8080/"
        },
        "outputId": "185b14d1-19af-4634-ca4f-421c88629b07"
      },
      "execution_count": 62,
      "outputs": [
        {
          "name": "stdout",
          "output_type": "stream",
          "text": [
            "\n",
            " Please tell me your name:\n",
            "\n",
            "(enter 'q' at any time to quit)\n",
            "First name:Suraya\n",
            "Last name:johari\n",
            "\n",
            "Hello,Suraya Johari!\n",
            "\n",
            " Please tell me your name:\n",
            "\n",
            "(enter 'q' at any time to quit)\n",
            "First name:Maslina\n",
            "Last name:sabri\n",
            "\n",
            "Hello,Maslina Sabri!\n",
            "\n",
            " Please tell me your name:\n",
            "\n",
            "(enter 'q' at any time to quit)\n",
            "First name:q\n"
          ]
        }
      ]
    },
    {
      "cell_type": "markdown",
      "source": [
        "# **Exercise 11: Passing a list as an argument**\n",
        "\n",
        "assignment"
      ],
      "metadata": {
        "id": "bZSbbYVpmZr3"
      }
    },
    {
      "cell_type": "code",
      "source": [
        "# Define a greet_users function\n",
        "def greet_users(names):\n",
        "    \"\"\"Print a simple greeting to each other in the list\"\"\"\n",
        "    for name in names:\n",
        "        msg = \"Hello, \"+ name.title() + \"!\"\n",
        "        print(msg)"
      ],
      "metadata": {
        "id": "FPng1sWXbQfq"
      },
      "execution_count": 66,
      "outputs": []
    },
    {
      "cell_type": "code",
      "source": [
        "# Test the greet_users function using a list\n",
        "nama = ['hasanah', 'khairil', '\\'Aishah'] # \"\\\" <- back slash is an escape character\n",
        "greet_users(nama)"
      ],
      "metadata": {
        "colab": {
          "base_uri": "https://localhost:8080/"
        },
        "id": "Lhfdz56YmpVo",
        "outputId": "8f3c88b5-1710-437a-fd23-2c6011d1b8f5"
      },
      "execution_count": 67,
      "outputs": [
        {
          "output_type": "stream",
          "name": "stdout",
          "text": [
            "Hello, Hasanah!\n",
            "Hello, Khairil!\n",
            "Hello, 'Aishah!\n"
          ]
        }
      ]
    },
    {
      "cell_type": "markdown",
      "source": [
        "# **Exercise 12**: Modifying a list in a function"
      ],
      "metadata": {
        "id": "1TMRT2Cym1yd"
      }
    },
    {
      "cell_type": "code",
      "source": [
        "# Define a print_models function\n",
        "# Using unprinted_designs and completed_models as parameters\n",
        "# Using while loop\n",
        "def print_models(unprinted_designs, completed_models):\n",
        "    \"\"\"\n",
        "    Simulate printing each design, until none are left\n",
        "    Move each printed design to completed_models after printing\n",
        "    \"\"\"\n",
        "    while unprinted_designs:\n",
        "        current_design = unprinted_designs.pop()\n",
        "\n",
        "        print(\"Printing model: \" + current_design)\n",
        "        completed_models.append(current_design)\n",
        "\n",
        "\n",
        "# Define a show_completed_models function\n",
        "# Using a for loop\n",
        "def show_completed_models(completed_models):\n",
        "    \"\"\"Show all the models that were printed\"\"\"\n",
        "    print(\"\\nThe following models have been printed:\")\n",
        "    for completed_models in completed_models:\n",
        "        print(completed_models)"
      ],
      "metadata": {
        "id": "IREmpvmldZ8M"
      },
      "execution_count": 84,
      "outputs": []
    },
    {
      "cell_type": "code",
      "source": [
        "# Given the unprinted_designs and complete_models variable\n",
        "unprinted_designs = ['iPhone pro max case', 'Malaysian flag', 'UKM Watan Logo']\n",
        "completed_models = []"
      ],
      "metadata": {
        "id": "Fjy5lk5teH3l"
      },
      "execution_count": 85,
      "outputs": []
    },
    {
      "cell_type": "code",
      "source": [
        "# Test run the two functions\n",
        "print_models(unprinted_designs, completed_models)\n",
        "show_completed_models(completed_models)"
      ],
      "metadata": {
        "colab": {
          "base_uri": "https://localhost:8080/"
        },
        "id": "QvdY6SHde5jr",
        "outputId": "3971dca8-e018-4a2d-c7a1-3b60197b2bec"
      },
      "execution_count": 86,
      "outputs": [
        {
          "output_type": "stream",
          "name": "stdout",
          "text": [
            "Printing model: UKM Watan Logo\n",
            "Printing model: Malaysian flag\n",
            "Printing model: iPhone pro max case\n",
            "\n",
            "The following models have been printed:\n",
            "UKM Watan Logo\n",
            "Malaysian flag\n",
            "iPhone pro max case\n"
          ]
        }
      ]
    },
    {
      "cell_type": "code",
      "source": [
        "# Print the final unprinted_designs\n",
        "print(unprinted_designs)\n",
        "\n",
        "# Print the final completed_models\n",
        "print(completed_models)"
      ],
      "metadata": {
        "colab": {
          "base_uri": "https://localhost:8080/"
        },
        "id": "tFATM-3CoMUZ",
        "outputId": "f1f871f9-c951-48ec-a4db-55ea9621dce2"
      },
      "execution_count": 81,
      "outputs": [
        {
          "output_type": "stream",
          "name": "stdout",
          "text": [
            "[]\n",
            "['UKM Watan Logo', 'Malaysian flag', 'iPhone pro max case']\n"
          ]
        }
      ]
    },
    {
      "cell_type": "markdown",
      "source": [
        "# **Exercise 13**: Passing an Arbitrary Number of Arguments"
      ],
      "metadata": {
        "id": "40hG76PqofzK"
      }
    },
    {
      "cell_type": "code",
      "source": [
        "# Define a make_pizza function\n",
        "# Using an asterisk (*) to make a tuple\n",
        "# Using a for loop\n",
        "def make_pizza(size, *toppings):\n",
        "    \"\"\"Summarise the pizza we are about to make\"\"\"\n",
        "    print(\"\\nMaking a \" + str(size) + \"-inch pizza with the following toppings:\")\n",
        "\n",
        "    for topping in toppings:\n",
        "        print(\"- \" + topping)"
      ],
      "metadata": {
        "id": "SPUnVgGrgdfM"
      },
      "execution_count": 92,
      "outputs": []
    },
    {
      "cell_type": "code",
      "source": [
        "# Test run the make_pizza function: 1\n",
        "make_pizza(16, 'tuna dan nanas')"
      ],
      "metadata": {
        "colab": {
          "base_uri": "https://localhost:8080/"
        },
        "id": "c8hWWwENglJT",
        "outputId": "24157be5-4a71-4c87-959e-06e275f3fbd1"
      },
      "execution_count": 93,
      "outputs": [
        {
          "output_type": "stream",
          "name": "stdout",
          "text": [
            "\n",
            "Making a 16-inch pizza with the following toppings:\n",
            "- tuna dan nanas\n"
          ]
        }
      ]
    },
    {
      "cell_type": "code",
      "source": [
        "# Test run the make_pizza function: 2\n",
        "make_pizza(16, 'tunna', 'nanas', 'sausage', 'extra cheese', 'crab meat', 'pickles')"
      ],
      "metadata": {
        "colab": {
          "base_uri": "https://localhost:8080/"
        },
        "id": "4J0GABtkgd-T",
        "outputId": "4d059309-30cf-4a77-816d-d90c2b2a6a28"
      },
      "execution_count": 95,
      "outputs": [
        {
          "output_type": "stream",
          "name": "stdout",
          "text": [
            "\n",
            "Making a 16-inch pizza with the following toppings:\n",
            "- tunna\n",
            "- nanas\n",
            "- sausage\n",
            "- extra cheese\n",
            "- crab meat\n",
            "- pickles\n"
          ]
        }
      ]
    },
    {
      "cell_type": "code",
      "source": [],
      "metadata": {
        "id": "153tBYZLgJpy"
      },
      "execution_count": null,
      "outputs": []
    },
    {
      "cell_type": "markdown",
      "source": [
        "# **What is a *python tuple*?**\n",
        "Python tuples are a type of data structure that is very similar to lists. The main difference between the two is that tuples are immutable, meaning they cannot be changed once they are created. This makes them ideal for storing data that should not be modified, such as database records.\n",
        "\n",
        "For more information, please visit this link: https://tinyurl.com/yv7b3dzw"
      ],
      "metadata": {
        "id": "8G4FXQ_9pPlS"
      }
    },
    {
      "cell_type": "markdown",
      "source": [
        "# **Exercise 14**: Using arbitrary keyword arguments"
      ],
      "metadata": {
        "id": "ot-m1uP4p77o"
      }
    },
    {
      "cell_type": "code",
      "source": [
        "# Define a build_profile function\n",
        "# Use a double asterisk (**) to create empty dictionary [to store name-value pairs]\n",
        "def build_profile(first, last, **user_info):\n",
        "    \"\"\"Build a dictionary containing everything we know about a user\"\"\"\n",
        "    profile = {}\n",
        "    profile['first_name'] = first\n",
        "    profile['last_name'] = last\n",
        "\n",
        "    for key, value in user_info.items():\n",
        "        profile[key]=value\n",
        "    return profile"
      ],
      "metadata": {
        "id": "YSkms1bvjSLL"
      },
      "execution_count": 96,
      "outputs": []
    },
    {
      "cell_type": "code",
      "source": [
        "# Test run the build_profile function\n",
        "user_profile = build_profile('Suraya', 'Johari',\n",
        "                             location = 'johor',\n",
        "                             field = 'logistics')\n",
        "\n",
        "print (user_profile)\n",
        ""
      ],
      "metadata": {
        "colab": {
          "base_uri": "https://localhost:8080/"
        },
        "id": "DwRHhiCtjcGc",
        "outputId": "29549b5b-06a1-46b7-d84a-a2a64e1fda60"
      },
      "execution_count": 97,
      "outputs": [
        {
          "metadata": {
            "tags": null
          },
          "name": "stdout",
          "output_type": "stream",
          "text": [
            "{'first_name': 'Suraya', 'last_name': 'Johari', 'location': 'johor', 'field': 'logistics'}\n"
          ]
        }
      ]
    },
    {
      "cell_type": "markdown",
      "source": [
        "# **Good Luck and see you all next week :)**"
      ],
      "metadata": {
        "id": "AsgDHq4zrrdy"
      }
    }
  ]
}