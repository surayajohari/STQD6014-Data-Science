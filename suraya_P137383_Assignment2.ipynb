{
  "nbformat": 4,
  "nbformat_minor": 0,
  "metadata": {
    "colab": {
      "provenance": [],
      "authorship_tag": "ABX9TyM453s8EJa34nat6Wq9jZgN",
      "include_colab_link": true
    },
    "kernelspec": {
      "name": "python3",
      "display_name": "Python 3"
    },
    "language_info": {
      "name": "python"
    }
  },
  "cells": [
    {
      "cell_type": "markdown",
      "metadata": {
        "id": "view-in-github",
        "colab_type": "text"
      },
      "source": [
        "<a href=\"https://colab.research.google.com/github/surayajohari/STQD6014-Data-Science/blob/main/suraya_P137383_Assignment2.ipynb\" target=\"_parent\"><img src=\"https://colab.research.google.com/assets/colab-badge.svg\" alt=\"Open In Colab\"/></a>"
      ]
    },
    {
      "cell_type": "code",
      "source": [
        "# Bank Account Parent class\n",
        "class bankAccount:\n",
        "    def __init__ (self, username, fullname, icnum, city, phonenum, acc_balance=0):\n",
        "        self.username = username\n",
        "        self.fullname = fullname\n",
        "        self.icnum = icnum\n",
        "        self.city = city\n",
        "        self.phonenum = phonenum\n",
        "        self.balance = acc_balance\n",
        "\n",
        "# Function to deposit money\n",
        "    def deposit(self, amount):\n",
        "        amount = float(input(\"\\n Enter your desired amount to be deposited: \"))\n",
        "        self.balance += amount\n",
        "        print(\"\\n Amount deposited is RM \" + str(amount))\n",
        "\n",
        "# Function to withdraw the money\n",
        "    def withdraw(self, amount):\n",
        "        amount = float(input(\"\\n Enter your desired amount to be withdrawn: \"))\n",
        "        required = amount + 20\n",
        "        if self.balance >= required:\n",
        "            self.balance -= amount\n",
        "            print(\"\\n Amount withdrew is RM \" + str(amount))\n",
        "        else:\n",
        "            print(\"\\n Insufficient balance\")\n",
        "\n",
        "# Function to display balance in account\n",
        "    def display(self):\n",
        "        print(\"\\n Your username is \" + str(self.username))\n",
        "        print(\"\\n Your fullname is \" + self.fullname)\n",
        "        print(\"\\n Your ic number is \" + str(self.icnum))\n",
        "        print(\"\\n Your available amount in your account is RM \" + str(self.balance))"
      ],
      "metadata": {
        "id": "mBLkkJbsJ5nt"
      },
      "execution_count": 9,
      "outputs": []
    },
    {
      "cell_type": "code",
      "source": [
        "# Bank Account Child class\n",
        "\n",
        "class childAccount(bankAccount):\n",
        "    def __init__ (self, username, fullname, icnum, city, phonenum, acc_balance=0)"
      ],
      "metadata": {
        "id": "Ygc9nZOfQlyJ"
      },
      "execution_count": null,
      "outputs": []
    },
    {
      "cell_type": "code",
      "execution_count": null,
      "metadata": {
        "id": "6j40G4jorMea"
      },
      "outputs": [],
      "source": [
        "class bank_Account:\n",
        "    def __init__ (self):\n",
        "        self.balance=0\n",
        "\n",
        "    def deposit(self):\n",
        "        amount=float(input(\"Enter amount to be Deposited: \"))\n",
        "        self.balance += amount\n",
        "        print(\"\\n Amount Deposited:\",amount)\n",
        "\n",
        "    def withdraw(self):\n",
        "        amount = float(input(\"Enter amount to be Withdrawn: \"))\n",
        "        if self.balance>=amount:\n",
        "            self.balance-=amount\n",
        "            print(\"\\n You Withdrew:\", amount)\n",
        "        else:\n",
        "            print(\"\\n Insufficient balance  \")\n",
        "\n",
        "    def display(self):\n",
        "        print(\"\\n Net Available Balance=\",self.balance)"
      ]
    },
    {
      "cell_type": "code",
      "source": [
        "class Account:\n",
        "    def __init__(self,owner,balance=0):\n",
        "        self.owner = owner\n",
        "        self.balance = balance\n",
        "    def __str__(self):\n",
        "         return f'Account owner:   {self.owner}\\nAccount balance: ${self.balance}'\n",
        "    def deposit(self,dep_amount):\n",
        "        self.balance= self.balance +dep_amount\n",
        "        print('Deposit accepted')\n",
        "    def withdrawl(self,With_amount):\n",
        "        if self.balance >= With_amount:\n",
        "             self.balance = self.balance - With_amount\n",
        "             print('withdrwal amount')\n",
        "        else:\n",
        "            print('funds unavaialable')"
      ],
      "metadata": {
        "id": "ROdzE_ZotHyp"
      },
      "execution_count": null,
      "outputs": []
    },
    {
      "cell_type": "code",
      "source": [
        "s=bankAccount()\n",
        "s.deposit()"
      ],
      "metadata": {
        "colab": {
          "base_uri": "https://localhost:8080/"
        },
        "id": "hh328zSKsyyl",
        "outputId": "711d2942-5708-41a5-c68a-bd402bca1bee"
      },
      "execution_count": null,
      "outputs": [
        {
          "output_type": "stream",
          "name": "stdout",
          "text": [
            "Enter amount to be Deposited: 100\n",
            "\n",
            " Amount Deposited: 100.0\n"
          ]
        }
      ]
    }
  ]
}