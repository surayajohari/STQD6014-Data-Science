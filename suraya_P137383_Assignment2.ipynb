{
  "nbformat": 4,
  "nbformat_minor": 0,
  "metadata": {
    "colab": {
      "provenance": [],
      "authorship_tag": "ABX9TyPDWD1BwlRVk6Ib8hQId2tR",
      "include_colab_link": true
    },
    "kernelspec": {
      "name": "python3",
      "display_name": "Python 3"
    },
    "language_info": {
      "name": "python"
    }
  },
  "cells": [
    {
      "cell_type": "markdown",
      "metadata": {
        "id": "view-in-github",
        "colab_type": "text"
      },
      "source": [
        "<a href=\"https://colab.research.google.com/github/surayajohari/STQD6014-Data-Science/blob/main/suraya_P137383_Assignment2.ipynb\" target=\"_parent\"><img src=\"https://colab.research.google.com/assets/colab-badge.svg\" alt=\"Open In Colab\"/></a>"
      ]
    },
    {
      "cell_type": "code",
      "source": [
        "# Bank Account Parent class\n",
        "class bankAccount:\n",
        "    def __init__ (self, username, fullname, icnum, city, phonenum, accnum, acc_balance=0):\n",
        "        self.username = username\n",
        "        self.fullname = fullname\n",
        "        self.icnum = icnum\n",
        "        self.city = city\n",
        "        self.phonenum = phonenum\n",
        "        self.balance = acc_balance\n",
        "        self.accnum = accnum\n",
        "\n",
        "# Function to deposit money\n",
        "    def deposit(self, amount):\n",
        "        print(\"\\n --- DEPOSITING MONEY PROCESS ---\")\n",
        "        amount = float(input(\"\\n Enter your desired amount to be deposited: \"))\n",
        "        self.balance += amount\n",
        "        print(\"\\n Amount deposited is RM \" + str(amount))\n",
        "        print(\" Your new account balance is: \" + str(self.balance))\n",
        "\n",
        "# Function to withdraw the money\n",
        "    def withdraw(self, amount):\n",
        "        print(\"\\n --- WITHDRAWAL MONEY PROCESS ---\")\n",
        "        amount = float(input(\"\\n Enter your desired amount to be withdrawn: \"))\n",
        "        required = amount + 20\n",
        "        if self.balance >= required:\n",
        "            self.balance -= amount\n",
        "            print(\"\\n Amount withdrew is RM \" + str(amount))\n",
        "            print(\" Your new account balance is: \" + str(self.balance))\n",
        "        else:\n",
        "            print(\"\\n Insufficient balance. Please make sure you left a min balance of RM 20 in your account. \")\n",
        "\n",
        "# Function to display balance in account\n",
        "    def display(self):\n",
        "        print(\"\\n --- CHECKING ACCOUNT DETAILS PROCESS ---\")\n",
        "        print(\"\\n Your account details is as per below:\")\n",
        "        print(\" Username = \" + str(self.username))\n",
        "        print(\" Fullname = \" + self.fullname)\n",
        "        print(\" IC number = \" + str(self.icnum))\n",
        "        print(\" Your available amount in your account is RM \" + str(self.balance))\n",
        "\n",
        "# Function to close account\n",
        "    def closeAcc(self):\n",
        "        print(\"\\n --- CLOSING ACCOUNT PROCESS ---\")\n",
        "        check = input(\"Are you sure you want to close your bank account?: (Y/N)\")\n",
        "        if check == \"Y\":\n",
        "            print(\"\\n We're sorry to see you go! It was a pleasure serving you \" + self.fullname + \".\")\n",
        "        else:\n",
        "            print(\"\\n Happy to serve you again!\")"
      ],
      "metadata": {
        "id": "mBLkkJbsJ5nt"
      },
      "execution_count": 43,
      "outputs": []
    },
    {
      "cell_type": "code",
      "source": [
        "# Bank Account Child Class\n",
        "\n",
        "class childAccount(bankAccount):\n",
        "    def __init__ (self, username, fullname, icnum, city, phonenum, accnum, age, acc_balance=0):\n",
        "        self.username = username\n",
        "        self.fullname = fullname\n",
        "        self.icnum = icnum\n",
        "        self.city = city\n",
        "        self.phonenum = phonenum\n",
        "        self.balance = acc_balance\n",
        "        self.accnum = accnum\n",
        "        self.age = age\n",
        "\n",
        "    def createAcc(self):\n",
        "        print(\"\\n --- CREATING AN ACCOUNT PROCESS FOR UNDERAGE --- \")\n",
        "        age = float(input(\"\\n Please enter your age: \"))\n",
        "        if age <= 18:\n",
        "            print(\" Since you're below 18, you need your parents guidance to create an account.\")\n",
        "            citizen = input(\"\\n Are you Malaysian?: (Y/N)\")\n",
        "            if citizen == 'Y':\n",
        "                self.username = input(\"\\n Please enter your username: \")\n",
        "                self.fullname = input(\"\\n Please enter your full name: \")\n",
        "                self.icnum = (input(\"\\n Please enter your identificatio number: \"))\n",
        "                self.city = input(\"\\n Please enter your city: \")\n",
        "                self.phonenum = (input(\"\\n Please enter your phonenum: \"))\n",
        "                print(\"\\n Congratulations! You have successfully created an account. Details is as per below:\" +\n",
        "                      \"\\n Username = \" + str(self.username) +\n",
        "                      \"\\n Full name = \" + self.fullname.title() +\n",
        "                      \"\\n IC Number = \" + str(self.icnum) +\n",
        "                      \"\\n City = \" + self.city +\n",
        "                      \"\\n Phone number = \" + str(self.phonenum))\n",
        "            else:\n",
        "                print(\" Apologies, you need to be a Malaysian citizen in order to proceed further.\")\n",
        "        else:\n",
        "            print(\" You are eligible to create your own bank account, please proceed to next counter\")\n"
      ],
      "metadata": {
        "id": "VOFpYK4WhUo1"
      },
      "execution_count": 51,
      "outputs": []
    },
    {
      "cell_type": "code",
      "source": [
        "# First scenario is to deposit a certain amount and withdraw a certain amount.\n",
        "\n",
        "p = bankAccount(\"sj226\", \"Suraya Johari\", 950622, \"KL\", 127177937, 2266, 3000)\n",
        "\n",
        "p.deposit(2000)\n",
        "\n",
        "p.withdraw(500)\n",
        "\n",
        "p.display()"
      ],
      "metadata": {
        "colab": {
          "base_uri": "https://localhost:8080/"
        },
        "id": "ohpe6a6Poe8N",
        "outputId": "61485f4b-c7c2-4814-d481-5f73d11961ae"
      },
      "execution_count": 29,
      "outputs": [
        {
          "output_type": "stream",
          "name": "stdout",
          "text": [
            "\n",
            " --- DEPOSITING MONEY PROCESS ---\n",
            "\n",
            " Enter your desired amount to be deposited: 2000\n",
            "\n",
            " Amount deposited is RM 2000.0\n",
            " Your new account balance is: 5000.0\n",
            "\n",
            " --- WITHDRAWAL MONEY PROCESS ---\n",
            "\n",
            " Enter your desired amount to be withdrawn: 500\n",
            "\n",
            " Amount withdrew is RM 500.0\n",
            " Your new account balance is: 4500.0\n",
            "\n",
            " --- CHECKING ACCOUNT DETAILS PROCESS ---\n",
            "\n",
            " Your account details is as per below:\n",
            " Username = sj226\n",
            " Fullname = Suraya Johari\n",
            " IC number = 950622\n",
            " Your available amount in your account is RM 4500.0\n"
          ]
        }
      ]
    },
    {
      "cell_type": "code",
      "source": [
        "# Second Scenario withdrawal amount without leaving RM 20 in account\n",
        "\n",
        "q = bankAccount(\"fz2610\", \"Fazrul Azri\", 981026, \"KL\", 127177937, 2610, 4000)\n",
        "\n",
        "q.withdraw(4000)"
      ],
      "metadata": {
        "colab": {
          "base_uri": "https://localhost:8080/"
        },
        "id": "3TyFkrTtsB_Y",
        "outputId": "0008a261-a9e9-4d9f-95e9-fe02ccc41703"
      },
      "execution_count": 33,
      "outputs": [
        {
          "output_type": "stream",
          "name": "stdout",
          "text": [
            "\n",
            " --- WITHDRAWAL MONEY PROCESS ---\n",
            "\n",
            " Enter your desired amount to be withdrawn: 4000\n",
            "\n",
            " Insufficient balance. Please make sure you left a min balance of RM 20 in your account. \n"
          ]
        }
      ]
    },
    {
      "cell_type": "code",
      "source": [
        "# Third Scenario withdraw and close account\n",
        "\n",
        "r = bankAccount(\"zi1705\", \"Zulaikha Izzah\", 990517, \"KL\", 127177937, 517, 500)\n",
        "\n",
        "r.withdraw(480)\n",
        "\n",
        "r.closeAcc()"
      ],
      "metadata": {
        "colab": {
          "base_uri": "https://localhost:8080/"
        },
        "id": "j0dTON7eskLG",
        "outputId": "3694529b-0f90-4b4b-80a3-a64ae02377f1"
      },
      "execution_count": 44,
      "outputs": [
        {
          "output_type": "stream",
          "name": "stdout",
          "text": [
            "\n",
            " --- WITHDRAWAL MONEY PROCESS ---\n",
            "\n",
            " Enter your desired amount to be withdrawn: 480\n",
            "\n",
            " Amount withdrew is RM 480.0\n",
            " Your new account balance is: 20.0\n",
            "\n",
            " --- CLOSING ACCOUNT PROCESS ---\n",
            "Are you sure you want to close your bank account?: (Y/N)Y\n",
            "\n",
            " We're sorry to see you go! It was a pleasure serving you Zulaikha Izzah.\n"
          ]
        }
      ]
    },
    {
      "cell_type": "code",
      "source": [
        "# Forth Scenario opening a child account\n",
        "\n",
        "s = childAccount(\"mka1406\", \"Khairulanwar\", 21406, \"KL\", 127177937, 614, 17, 500)\n",
        "\n",
        "s.createAcc()"
      ],
      "metadata": {
        "colab": {
          "base_uri": "https://localhost:8080/"
        },
        "id": "sC0eqbkMtgt1",
        "outputId": "8c1543a0-6b75-4764-a37d-cd5bf4cbd029"
      },
      "execution_count": 55,
      "outputs": [
        {
          "output_type": "stream",
          "name": "stdout",
          "text": [
            "\n",
            " --- CREATING AN ACCOUNT PROCESS FOR UNDERAGE --- \n",
            "\n",
            " Please enter your age: 17\n",
            " Since you're below 18, you need your parents guidance to create an account.\n",
            "\n",
            " Are you Malaysian?: (Y/N)Y\n",
            "\n",
            " Please enter your username: mka1406\n",
            "\n",
            " Please enter your full name: Khairulanwar\n",
            "\n",
            " Please enter your identificatio number: 21406\n",
            "\n",
            " Please enter your city: KL\n",
            "\n",
            " Please enter your phonenum: 127177937\n",
            "\n",
            " Congratulations! You have successfully created an account. Details is as per below:\n",
            " Username = mka1406\n",
            " Full name = Khairulanwar\n",
            " IC Number = 21406\n",
            " City = KL\n",
            " Phone number = 127177937\n"
          ]
        }
      ]
    }
  ]
}