{
  "cells": [
    {
      "cell_type": "markdown",
      "metadata": {
        "id": "view-in-github",
        "colab_type": "text"
      },
      "source": [
        "<a href=\"https://colab.research.google.com/github/surayajohari/STQD6014-Data-Science/blob/main/suraya_Week05_20231119_Classes.ipynb\" target=\"_parent\"><img src=\"https://colab.research.google.com/assets/colab-badge.svg\" alt=\"Open In Colab\"/></a>"
      ]
    },
    {
      "cell_type": "markdown",
      "source": [
        "# **Week 05**: Classes\n",
        "* Represent **real-world things and situations**\n",
        "* When we write a class, we define the **general behavior** that a whole category of objects can have\n",
        "* Making an object from a class is called ***instantiation***, and we work with ***instances of a class***\n",
        "* When we **create individual objects** from the class, each object is **automatically equipped with the general behavior**\n",
        "* We can then **give each object whatever unique traits** we desire."
      ],
      "metadata": {
        "id": "GEPHDqSbhI1t"
      }
    },
    {
      "cell_type": "markdown",
      "source": [
        "# **Creating and using a Class**\n",
        "* We'll start by writing a simple class named Dog\n",
        "    * represents a dog — not one dog in particular, but any dog (**common attritubes**)\n",
        "        * a name and age **(information)**\n",
        "        * most dogs sit and roll over **(behaviours)**"
      ],
      "metadata": {
        "id": "nPO2NszZh5_n"
      }
    },
    {
      "cell_type": "markdown",
      "source": [
        "# **Exercise 1**\n",
        "* **\\__init__()** method is a special method Python **runs automatically** whenever we create a new instance based on the Dog class\n",
        "    * has **two leading underscores** and **two trailing underscores**\n",
        "* ***self*** parameter is required in the method definition\n",
        "    * must come first before the other parameters\n",
        "    * Every method call associated with a class automatically passes ***self***, which is ***a reference to the instance itself***\n",
        "    * When we make an instance of Dog, Python will call the \\__init__() method from the Dog class.\n",
        "    * We’ll then pass Dog() ***a name and an age*** as arguments\n",
        "    * **self** is passed automatically, so we don’t need to pass it.\n",
        "\n",
        "* **Think of a class** as **a set of instructions for how to make an instance**. The **class Dog** is **a set of instructions** that tells Python **how to make individual instances representing specific dogs**.\n",
        "\n"
      ],
      "metadata": {
        "id": "pG1bZSNLjY-x"
      }
    },
    {
      "cell_type": "code",
      "execution_count": null,
      "metadata": {
        "id": "wWMgQtdVOdup"
      },
      "outputs": [],
      "source": [
        "# Creating the Dog Class\n",
        "class Dog(): # <-capitalized the name - in this case \"Dog\"\n",
        "    \"\"\"A simple attempt to model a dog.\"\"\"\n",
        "\n",
        "    def __init__(self, name, age): # <- self, names, age is called parameters\n",
        "        \"\"\"Initialize name and age attributes.\"\"\"\n",
        "        self.name = name\n",
        "        self.age = age\n",
        "\n",
        "    def sit(self): # <- sit here is called a attributes\n",
        "        \"\"\"Simulate a dog sitting in response to a command.\"\"\"\n",
        "        print(self.name.title() + \" is now sitting.\")\n",
        "\n",
        "    def roll_over(self): # <- roll_over here is another attributes\n",
        "        \"\"\"Simulate rolling over in response to a command.\"\"\"\n",
        "        print(self.name.title() + \" rolled over!\")"
      ]
    },
    {
      "cell_type": "code",
      "execution_count": null,
      "metadata": {
        "id": "1x0Z2h2VBh7_"
      },
      "outputs": [],
      "source": [
        "# Making an instance of a dog\n",
        "# Store the instance in the variable named my_dog\n",
        "# Capitalized name like Dog refers to a class\n",
        "# Lowercase name like my_dog refers to a single instance created from a class\n",
        "my_dog = Dog('willie', 6)"
      ]
    },
    {
      "cell_type": "markdown",
      "source": [
        "# **Accessing attributes**"
      ],
      "metadata": {
        "id": "kogS5vlpouAX"
      }
    },
    {
      "cell_type": "code",
      "source": [
        "# Accessing the dog's name attribute\n",
        "my_dog.name"
      ],
      "metadata": {
        "colab": {
          "base_uri": "https://localhost:8080/",
          "height": 35
        },
        "id": "kxmXsWIuoxBj",
        "outputId": "a1529b9d-6129-4441-da17-d9cf134aa053"
      },
      "execution_count": null,
      "outputs": [
        {
          "output_type": "execute_result",
          "data": {
            "text/plain": [
              "'willie'"
            ],
            "application/vnd.google.colaboratory.intrinsic+json": {
              "type": "string"
            }
          },
          "metadata": {},
          "execution_count": 5
        }
      ]
    },
    {
      "cell_type": "code",
      "source": [
        "# Accessing the dog's age attribute\n",
        "my_dog.age"
      ],
      "metadata": {
        "colab": {
          "base_uri": "https://localhost:8080/"
        },
        "id": "6goOokACo25E",
        "outputId": "07d80008-45a4-4dcb-8a41-a5de517fb5b6"
      },
      "execution_count": null,
      "outputs": [
        {
          "output_type": "execute_result",
          "data": {
            "text/plain": [
              "6"
            ]
          },
          "metadata": {},
          "execution_count": 6
        }
      ]
    },
    {
      "cell_type": "markdown",
      "source": [
        "# **Output the summary of what we know about my_dog**"
      ],
      "metadata": {
        "id": "gBMkVSTspPDt"
      }
    },
    {
      "cell_type": "code",
      "execution_count": null,
      "metadata": {
        "colab": {
          "base_uri": "https://localhost:8080/"
        },
        "id": "mW8qWJNNbo53",
        "outputId": "e4556527-8348-405d-d55f-c24cdcc8859e"
      },
      "outputs": [
        {
          "output_type": "stream",
          "name": "stdout",
          "text": [
            "My dog's name is Willie.\n",
            "My dog is 6 years old\n",
            "Willie is now sitting.\n",
            "Willie rolled over!\n"
          ]
        }
      ],
      "source": [
        "# Summary\n",
        "print(\"My dog's name is \" + my_dog.name.title() + '.')\n",
        "print(\"My dog is \" + str(my_dog.age) + ' years old')\n",
        "my_dog.sit()\n",
        "my_dog.roll_over()"
      ]
    },
    {
      "cell_type": "markdown",
      "source": [
        "# **Exercise 2: Creating Multiple Instances**"
      ],
      "metadata": {
        "id": "6k0-OCD5phL1"
      }
    },
    {
      "cell_type": "code",
      "execution_count": null,
      "metadata": {
        "colab": {
          "base_uri": "https://localhost:8080/"
        },
        "id": "yqnMo4qdcH-O",
        "outputId": "a6934d4f-7a05-4e23-f87d-5a8a053dfef2"
      },
      "outputs": [
        {
          "output_type": "stream",
          "name": "stdout",
          "text": [
            "My dog's name is Willie.\n",
            "My dog is 6 years old.\n",
            "Willie is now sitting.\n",
            "\n",
            "Your dog's name is Lucy.\n",
            "Your dog is 3 years old.\n",
            "Lucy is now sitting.\n"
          ]
        }
      ],
      "source": [
        "# Create Multiple instances\n",
        "# Given the following two instances\n",
        "my_dog = Dog('willie', 6)\n",
        "your_dog = Dog('lucy', 3)"
      ]
    },
    {
      "cell_type": "code",
      "source": [
        "# Print information about Willie\n",
        "print(\"My dog's name is \" + my_dog.name.title() + \".\")\n",
        "print(\"My dog is \" + str(my_dog.age) + \" years old.\")\n",
        "my_dog.sit()"
      ],
      "metadata": {
        "colab": {
          "base_uri": "https://localhost:8080/"
        },
        "id": "8d2BJnKNp4u6",
        "outputId": "7c61fd46-4a93-462c-a0d5-70c31e26aab4"
      },
      "execution_count": null,
      "outputs": [
        {
          "output_type": "stream",
          "name": "stdout",
          "text": [
            "My dog's name is Willie.\n",
            "My dog is 6 years old.\n",
            "Willie is now sitting.\n"
          ]
        }
      ]
    },
    {
      "cell_type": "code",
      "source": [
        "# Print information about Lucy\n",
        "print(\"\\nYour dog's name is \" + your_dog.name.title() + \".\")\n",
        "print(\"Your dog is \" + str(your_dog.age) + \" years old.\")\n",
        "your_dog.sit()"
      ],
      "metadata": {
        "colab": {
          "base_uri": "https://localhost:8080/"
        },
        "id": "VnDBmRgQp-ZG",
        "outputId": "a4b886da-c7b3-4d7c-c8de-4c417d21b942"
      },
      "execution_count": null,
      "outputs": [
        {
          "output_type": "stream",
          "name": "stdout",
          "text": [
            "\n",
            "Your dog's name is Lucy.\n",
            "Your dog is 3 years old.\n",
            "Lucy is now sitting.\n"
          ]
        }
      ]
    },
    {
      "cell_type": "markdown",
      "source": [
        "# **Exercise 3: Modify attributes associated with an instance**"
      ],
      "metadata": {
        "id": "2KNlzX_YqTU7"
      }
    },
    {
      "cell_type": "code",
      "execution_count": null,
      "metadata": {
        "id": "7vHflPizix0E"
      },
      "outputs": [],
      "source": [
        "# Modify attributes associated with an instance\n",
        "# Create a Car class\n",
        "class Car():\n",
        "    \"\"\"A simple attempt to represent a car.\"\"\"\n",
        "    def __init__(self, make, model, year):\n",
        "        \"\"\"Initialize attributes to describe a car.\"\"\"\n",
        "        self.make = make\n",
        "        self.model = model\n",
        "        self.year = year\n",
        "\n",
        "    def get_descriptive_name(self):\n",
        "        \"\"\"Return a neatly formatted descriptive name.\"\"\"\n",
        "        long_name = str(self.year) + ' ' + self.make + ' ' + self.model\n",
        "        return long_name.title()"
      ]
    },
    {
      "cell_type": "code",
      "execution_count": null,
      "metadata": {
        "id": "aQnwIwUBjPKc"
      },
      "outputs": [],
      "source": [
        "# Create an Audi A4 2016 instance\n",
        "my_new_car = Car('audi', 'a4', 2016)"
      ]
    },
    {
      "cell_type": "code",
      "execution_count": null,
      "metadata": {
        "colab": {
          "base_uri": "https://localhost:8080/"
        },
        "id": "ZnMGS1eWDfJK",
        "outputId": "a2f9d317-0d5d-4a17-c3c6-9d0b31156a42"
      },
      "outputs": [
        {
          "output_type": "stream",
          "name": "stdout",
          "text": [
            "2016 Audi A4\n"
          ]
        }
      ],
      "source": [
        "# Print out the car instance information\n",
        "print(my_new_car.get_descriptive_name())"
      ]
    },
    {
      "cell_type": "markdown",
      "source": [
        "# **Exercise 4: Setting a Default Value for an Attribute**"
      ],
      "metadata": {
        "id": "nQgEm4RHvmsz"
      }
    },
    {
      "cell_type": "code",
      "execution_count": null,
      "metadata": {
        "id": "7KsMvUS6lZnU"
      },
      "outputs": [],
      "source": [
        "# Setting a Default Value\n",
        "class Car():\n",
        "    \"\"\"A simple attempt to represent a car.\"\"\"\n",
        "    def __init__(self, make, model, year):\n",
        "        \"\"\"Initialize attributes to describe a car.\"\"\"\n",
        "        self.make = make\n",
        "        self.model = model\n",
        "        self.year = year\n",
        "        self.odometer_reading = 0\n",
        "\n",
        "    def get_descriptive_name(self):\n",
        "        \"\"\"Return a neatly formatted descriptive name.\"\"\"\n",
        "        long_name = str(self.year) + ' ' + self.make + ' ' + self.model\n",
        "        return long_name.title()\n",
        "\n",
        "    def read_odometer(self):\n",
        "        \"\"\"Print a statement showing the car's mileage.\"\"\"\n",
        "        print(\"This car has \" + str(self.odometer_reading) + \" miles on it.\")\n"
      ]
    },
    {
      "cell_type": "code",
      "execution_count": null,
      "metadata": {
        "colab": {
          "base_uri": "https://localhost:8080/"
        },
        "id": "RjhgP_IFlpRS",
        "outputId": "1951fb81-d52e-4c58-9a73-0e2c8acefb53"
      },
      "outputs": [
        {
          "output_type": "stream",
          "name": "stdout",
          "text": [
            "2016 Audi A4\n",
            "This car has 0 miles on it.\n"
          ]
        }
      ],
      "source": [
        "# Create an Audi A4 2016 instance\n",
        "my_new_car = Car('audi', 'a4', 2016)\n",
        "print(my_new_car.get_descriptive_name())\n",
        "my_new_car.read_odometer()"
      ]
    },
    {
      "cell_type": "markdown",
      "source": [
        "# **Exercise 5: Modifying an attribute’s Value Directly**"
      ],
      "metadata": {
        "id": "uZ2000gTwKtN"
      }
    },
    {
      "cell_type": "code",
      "execution_count": null,
      "metadata": {
        "colab": {
          "base_uri": "https://localhost:8080/"
        },
        "id": "M7MjMOXsl-i8",
        "outputId": "b6e10b03-fcda-41dc-f172-0aa9da3b7802"
      },
      "outputs": [
        {
          "output_type": "stream",
          "name": "stdout",
          "text": [
            "This car has 23 miles on it.\n"
          ]
        }
      ],
      "source": [
        "# Modifying an attribute’s Value Directly\n",
        "my_new_car.odometer_reading = 23\n",
        "my_new_car.read_odometer()"
      ]
    },
    {
      "cell_type": "markdown",
      "source": [
        "# **Exercise 6: Modifying an attribute’s Value through a Method**"
      ],
      "metadata": {
        "id": "aEEke_i2wiAo"
      }
    },
    {
      "cell_type": "code",
      "execution_count": null,
      "metadata": {
        "id": "Prtb8Wg0moK4"
      },
      "outputs": [],
      "source": [
        "# Modifying an attribute’s Value through a Method\n",
        "class Car():\n",
        "    \"\"\"A simple attempt to represent a car.\"\"\"\n",
        "    def __init__(self, make, model, year):\n",
        "        \"\"\"Initialize attributes to describe a car.\"\"\"\n",
        "        self.make = make\n",
        "        self.model = model\n",
        "        self.year = year\n",
        "        self.odometer_reading = 0\n",
        "\n",
        "    def get_descriptive_name(self):\n",
        "        \"\"\"Return a neatly formatted descriptive name.\"\"\"\n",
        "        long_name = str(self.year) + ' ' + self.make + ' ' + self.model\n",
        "        return long_name.title()\n",
        "\n",
        "    def read_odometer(self):\n",
        "        \"\"\"Print a statement showing the car's mileage.\"\"\"\n",
        "        print(\"This car has \" + str(self.odometer_reading) + \" miles on it.\")\n",
        "\n",
        "    def update_odometer(self, mileage):\n",
        "        \"\"\"Set the odometer reading to the given value.\"\"\"\n",
        "        self.odometer_reading = mileage"
      ]
    },
    {
      "cell_type": "code",
      "execution_count": null,
      "metadata": {
        "colab": {
          "base_uri": "https://localhost:8080/"
        },
        "id": "zniTRLA6nU4R",
        "outputId": "d0aeab87-d1c0-4e8f-8411-1af4a4e5f392"
      },
      "outputs": [
        {
          "output_type": "stream",
          "name": "stdout",
          "text": [
            "2016 Audi A4\n",
            "This car has 500 miles on it.\n"
          ]
        }
      ],
      "source": [
        "# Information about the car instance\n",
        "my_new_car = Car('audi', 'a4', 2016)\n",
        "print(my_new_car.get_descriptive_name())\n",
        "\n",
        "# Update the mileage\n",
        "my_new_car.update_odometer(500)\n",
        "my_new_car.read_odometer()"
      ]
    },
    {
      "cell_type": "markdown",
      "source": [
        "# **Exercise 7: Add some logic to make sure no one tries to roll back the odometer reading**"
      ],
      "metadata": {
        "id": "FCyRIvFjyJRb"
      }
    },
    {
      "cell_type": "code",
      "execution_count": null,
      "metadata": {
        "id": "2jLlJRMyoCcc"
      },
      "outputs": [],
      "source": [
        "# Add some logic constraint\n",
        "# Using if statement\n",
        "class Car():\n",
        "    \"\"\"A simple attempt to represent a car.\"\"\"\n",
        "    def __init__(self, make, model, year):\n",
        "        \"\"\"Initialize attributes to describe a car.\"\"\"\n",
        "        self.make = make\n",
        "        self.model = model\n",
        "        self.year = year\n",
        "        self.odometer_reading = 5000\n",
        "\n",
        "    def get_descriptive_name(self):\n",
        "        \"\"\"Return a neatly formatted descriptive name.\"\"\"\n",
        "        long_name = str(self.year) + ' ' + self.make + ' ' + self.model\n",
        "        return long_name.title()\n",
        "\n",
        "    def read_odometer(self):\n",
        "        \"\"\"Print a statement showing the car's mileage.\"\"\"\n",
        "        print(\"This car has \" + str(self.odometer_reading) + \" miles on it.\")\n",
        "\n",
        "    def update_odometer(self, mileage):\n",
        "        \"\"\"\n",
        "        Set the odometer reading to the given value.\n",
        "        Reject the change if it attempts to roll the odometer back.\n",
        "        \"\"\"\n",
        "        if mileage >= self.odometer_reading:\n",
        "            self.odometer_reading = mileage\n",
        "        else:\n",
        "            print(\"You can't roll back an odometer!\")"
      ]
    },
    {
      "cell_type": "code",
      "execution_count": null,
      "metadata": {
        "id": "3CDfeTFhoV_8"
      },
      "outputs": [],
      "source": [
        "# Testing\n",
        "my_new_car = Car('audi', 'a4', 2016)\n",
        "my_new_car.update_odometer(5001)"
      ]
    },
    {
      "cell_type": "markdown",
      "source": [
        "# **Exercise 8: Incrementing an attribute’s Value through a Method**\n",
        "* The **plus-equals operator +=** provides a convenient way to\n",
        "    * **add a value to an existing variable**, and\n",
        "    * **assign the new value back to the same variable**."
      ],
      "metadata": {
        "id": "MkJq4Ci3zUx6"
      }
    },
    {
      "cell_type": "code",
      "execution_count": null,
      "metadata": {
        "id": "Gkm9vwTmodH7"
      },
      "outputs": [],
      "source": [
        "# Incrementing an attribute’s Value through a Method\n",
        "class Car():\n",
        "    \"\"\"A simple attempt to represent a car.\"\"\"\n",
        "    def __init__(self, make, model, year):\n",
        "        \"\"\"Initialize attributes to describe a car.\"\"\"\n",
        "        self.make = make\n",
        "        self.model = model\n",
        "        self.year = year\n",
        "        self.odometer_reading = 5600\n",
        "\n",
        "    def get_descriptive_name(self):\n",
        "        \"\"\"Return a neatly formatted descriptive name.\"\"\"\n",
        "        long_name = str(self.year) + ' ' + self.make + ' ' + self.model\n",
        "        return long_name.title()\n",
        "\n",
        "    def read_odometer(self):\n",
        "        \"\"\"Print a statement showing the car's mileage.\"\"\"\n",
        "        print(\"This car has \" + str(self.odometer_reading) + \" miles on it.\")\n",
        "\n",
        "    def update_odometer(self, mileage):\n",
        "        \"\"\"\n",
        "        Set the odometer reading to the given value.\n",
        "        Reject the change if it attempts to roll the odometer back.\n",
        "        \"\"\"\n",
        "        if mileage >= self.odometer_reading:\n",
        "            self.odometer_reading = mileage\n",
        "        else:\n",
        "            print(\"You can't roll back an odometer!\")\n",
        "\n",
        "    def increment_odometer(self, miles):\n",
        "      \"\"\"Add the given amount to the odometer reading.\"\"\"\n",
        "      self.odometer_reading += miles"
      ]
    },
    {
      "cell_type": "code",
      "execution_count": null,
      "metadata": {
        "colab": {
          "base_uri": "https://localhost:8080/"
        },
        "id": "i5zfArMNppWi",
        "outputId": "fd892878-89f6-475c-f843-f9fc0ee2c8d1"
      },
      "outputs": [
        {
          "output_type": "stream",
          "name": "stdout",
          "text": [
            "2013 Subaru Outback\n",
            "This car has 23500 miles on it.\n",
            "This car has 23600 miles on it.\n"
          ]
        }
      ],
      "source": [
        "# Summary of a Subaru Outback 2013 instance\n",
        "my_used_car = Car('subaru', 'outback', 2013)\n",
        "print(my_used_car.get_descriptive_name())\n",
        "\n",
        "my_used_car.update_odometer(23500)\n",
        "my_used_car.read_odometer()\n",
        "\n",
        "my_used_car.increment_odometer(100)\n",
        "my_used_car.read_odometer()"
      ]
    },
    {
      "cell_type": "markdown",
      "source": [
        "# **Exercise 9: Inheritance -> parent class and child class**\n",
        "* The **name of the parent class** must be **included in parentheses** in the definition of the child class\n",
        "* The **super() function** is a special function that **helps Python make connections between the parent and child class**.\n",
        "    * parent class a ***super***class\n",
        "    * child class a subclass\n"
      ],
      "metadata": {
        "id": "hKqduhHrz58R"
      }
    },
    {
      "cell_type": "code",
      "execution_count": null,
      "metadata": {
        "id": "7zTlJVoGrLQ1"
      },
      "outputs": [],
      "source": [
        "# Define a parent class\n",
        "# Must appear before the child class\n",
        "class Car():\n",
        "    \"\"\"A simple attempt to represent a car.\"\"\"\n",
        "    def __init__(self, make, model, year):\n",
        "        \"\"\"Initialize attributes to describe a car.\"\"\"\n",
        "        self.make = make\n",
        "        self.model = model\n",
        "        self.year = year\n",
        "        self.odometer_reading = 5600\n",
        "\n",
        "    def get_descriptive_name(self):\n",
        "        \"\"\"Return a neatly formatted descriptive name.\"\"\"\n",
        "        long_name = str(self.year) + ' ' + self.make + ' ' + self.model\n",
        "        return long_name.title()\n",
        "\n",
        "    def read_odometer(self):\n",
        "        \"\"\"Print a statement showing the car's mileage.\"\"\"\n",
        "        print(\"This car has \" + str(self.odometer_reading) + \" miles on it.\")\n",
        "\n",
        "    def update_odometer(self, mileage):\n",
        "        \"\"\"\n",
        "        Set the odometer reading to the given value.\n",
        "        Reject the change if it attempts to roll the odometer back.\n",
        "        \"\"\"\n",
        "        if mileage >= self.odometer_reading:\n",
        "            self.odometer_reading = mileage\n",
        "        else:\n",
        "            print(\"You can't roll back an odometer!\")\n",
        "\n",
        "    def increment_odometer(self, miles):\n",
        "      \"\"\"Add the given amount to the odometer reading.\"\"\"\n",
        "      self.odometer_reading += miles\n",
        "\n",
        "# Define a child class\n",
        "class ElectricCar(Car):\n",
        "    \"\"\"Represent aspects of a car, specific to electric vehicles.\"\"\"\n",
        "\n",
        "    #\n",
        "    def __init__(self, make, model, year): # <- takes in the information required to make a Car instance (from Parent class).\n",
        "        \"\"\"Initialize attributes of the parent class.\"\"\"\n",
        "        super().__init__(make, model, year) # <- super() function connect child to parant class"
      ]
    },
    {
      "cell_type": "code",
      "execution_count": null,
      "metadata": {
        "colab": {
          "base_uri": "https://localhost:8080/"
        },
        "id": "QDp5j1KNrg0U",
        "outputId": "38b4be5d-20eb-4ac0-94db-e0a9f9c9d3fc"
      },
      "outputs": [
        {
          "output_type": "stream",
          "name": "stdout",
          "text": [
            "2016 Tesla Model S\n"
          ]
        }
      ],
      "source": [
        "# Test the child class\n",
        "my_tesla = ElectricCar('tesla', 'model s', 2016)\n",
        "print(my_tesla.get_descriptive_name())"
      ]
    },
    {
      "cell_type": "markdown",
      "source": [
        "# **Good Luck and See you all next week!!**"
      ],
      "metadata": {
        "id": "7b2D5a7JJgx3"
      }
    }
  ],
  "metadata": {
    "colab": {
      "provenance": [],
      "include_colab_link": true
    },
    "kernelspec": {
      "display_name": "Python 3",
      "name": "python3"
    },
    "language_info": {
      "name": "python"
    }
  },
  "nbformat": 4,
  "nbformat_minor": 0
}