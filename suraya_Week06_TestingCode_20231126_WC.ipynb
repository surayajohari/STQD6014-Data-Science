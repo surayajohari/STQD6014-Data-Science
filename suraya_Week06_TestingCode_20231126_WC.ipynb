{
  "nbformat": 4,
  "nbformat_minor": 0,
  "metadata": {
    "colab": {
      "provenance": [],
      "include_colab_link": true
    },
    "kernelspec": {
      "name": "python3",
      "display_name": "Python 3"
    },
    "language_info": {
      "name": "python"
    }
  },
  "cells": [
    {
      "cell_type": "markdown",
      "metadata": {
        "id": "view-in-github",
        "colab_type": "text"
      },
      "source": [
        "<a href=\"https://colab.research.google.com/github/surayajohari/STQD6014-Data-Science/blob/main/suraya_Week06_TestingCode_20231126_WC.ipynb\" target=\"_parent\"><img src=\"https://colab.research.google.com/assets/colab-badge.svg\" alt=\"Open In Colab\"/></a>"
      ]
    },
    {
      "cell_type": "markdown",
      "source": [
        "# **Week06: Testing Code**"
      ],
      "metadata": {
        "id": "qaMblbRLqsbV"
      }
    },
    {
      "cell_type": "markdown",
      "source": [
        "# **Exercise 1: Import Module**"
      ],
      "metadata": {
        "id": "Ns_yUKzWrT-g"
      }
    },
    {
      "cell_type": "code",
      "source": [
        "# Mount to Google Drive\n",
        "from google.colab import drive\n",
        "drive.mount('/content/drive')"
      ],
      "metadata": {
        "colab": {
          "base_uri": "https://localhost:8080/"
        },
        "id": "Zh7u3QMhHvT2",
        "outputId": "3588f33f-5e1e-4428-f2e6-5f045c953201"
      },
      "execution_count": 1,
      "outputs": [
        {
          "output_type": "stream",
          "name": "stdout",
          "text": [
            "Mounted at /content/drive\n"
          ]
        }
      ]
    },
    {
      "cell_type": "code",
      "source": [
        "# Upload name_function.py module\n",
        "from google.colab import files\n",
        "files.upload()"
      ],
      "metadata": {
        "colab": {
          "base_uri": "https://localhost:8080/",
          "height": 164
        },
        "id": "lPfJOEtLrZuE",
        "outputId": "63826acc-5619-49aa-e6af-a8124098e2c8"
      },
      "execution_count": 2,
      "outputs": [
        {
          "output_type": "display_data",
          "data": {
            "text/plain": [
              "<IPython.core.display.HTML object>"
            ],
            "text/html": [
              "\n",
              "     <input type=\"file\" id=\"files-4842c1d3-7a27-428b-bd1e-9c96c1ef8bf1\" name=\"files[]\" multiple disabled\n",
              "        style=\"border:none\" />\n",
              "     <output id=\"result-4842c1d3-7a27-428b-bd1e-9c96c1ef8bf1\">\n",
              "      Upload widget is only available when the cell has been executed in the\n",
              "      current browser session. Please rerun this cell to enable.\n",
              "      </output>\n",
              "      <script>// Copyright 2017 Google LLC\n",
              "//\n",
              "// Licensed under the Apache License, Version 2.0 (the \"License\");\n",
              "// you may not use this file except in compliance with the License.\n",
              "// You may obtain a copy of the License at\n",
              "//\n",
              "//      http://www.apache.org/licenses/LICENSE-2.0\n",
              "//\n",
              "// Unless required by applicable law or agreed to in writing, software\n",
              "// distributed under the License is distributed on an \"AS IS\" BASIS,\n",
              "// WITHOUT WARRANTIES OR CONDITIONS OF ANY KIND, either express or implied.\n",
              "// See the License for the specific language governing permissions and\n",
              "// limitations under the License.\n",
              "\n",
              "/**\n",
              " * @fileoverview Helpers for google.colab Python module.\n",
              " */\n",
              "(function(scope) {\n",
              "function span(text, styleAttributes = {}) {\n",
              "  const element = document.createElement('span');\n",
              "  element.textContent = text;\n",
              "  for (const key of Object.keys(styleAttributes)) {\n",
              "    element.style[key] = styleAttributes[key];\n",
              "  }\n",
              "  return element;\n",
              "}\n",
              "\n",
              "// Max number of bytes which will be uploaded at a time.\n",
              "const MAX_PAYLOAD_SIZE = 100 * 1024;\n",
              "\n",
              "function _uploadFiles(inputId, outputId) {\n",
              "  const steps = uploadFilesStep(inputId, outputId);\n",
              "  const outputElement = document.getElementById(outputId);\n",
              "  // Cache steps on the outputElement to make it available for the next call\n",
              "  // to uploadFilesContinue from Python.\n",
              "  outputElement.steps = steps;\n",
              "\n",
              "  return _uploadFilesContinue(outputId);\n",
              "}\n",
              "\n",
              "// This is roughly an async generator (not supported in the browser yet),\n",
              "// where there are multiple asynchronous steps and the Python side is going\n",
              "// to poll for completion of each step.\n",
              "// This uses a Promise to block the python side on completion of each step,\n",
              "// then passes the result of the previous step as the input to the next step.\n",
              "function _uploadFilesContinue(outputId) {\n",
              "  const outputElement = document.getElementById(outputId);\n",
              "  const steps = outputElement.steps;\n",
              "\n",
              "  const next = steps.next(outputElement.lastPromiseValue);\n",
              "  return Promise.resolve(next.value.promise).then((value) => {\n",
              "    // Cache the last promise value to make it available to the next\n",
              "    // step of the generator.\n",
              "    outputElement.lastPromiseValue = value;\n",
              "    return next.value.response;\n",
              "  });\n",
              "}\n",
              "\n",
              "/**\n",
              " * Generator function which is called between each async step of the upload\n",
              " * process.\n",
              " * @param {string} inputId Element ID of the input file picker element.\n",
              " * @param {string} outputId Element ID of the output display.\n",
              " * @return {!Iterable<!Object>} Iterable of next steps.\n",
              " */\n",
              "function* uploadFilesStep(inputId, outputId) {\n",
              "  const inputElement = document.getElementById(inputId);\n",
              "  inputElement.disabled = false;\n",
              "\n",
              "  const outputElement = document.getElementById(outputId);\n",
              "  outputElement.innerHTML = '';\n",
              "\n",
              "  const pickedPromise = new Promise((resolve) => {\n",
              "    inputElement.addEventListener('change', (e) => {\n",
              "      resolve(e.target.files);\n",
              "    });\n",
              "  });\n",
              "\n",
              "  const cancel = document.createElement('button');\n",
              "  inputElement.parentElement.appendChild(cancel);\n",
              "  cancel.textContent = 'Cancel upload';\n",
              "  const cancelPromise = new Promise((resolve) => {\n",
              "    cancel.onclick = () => {\n",
              "      resolve(null);\n",
              "    };\n",
              "  });\n",
              "\n",
              "  // Wait for the user to pick the files.\n",
              "  const files = yield {\n",
              "    promise: Promise.race([pickedPromise, cancelPromise]),\n",
              "    response: {\n",
              "      action: 'starting',\n",
              "    }\n",
              "  };\n",
              "\n",
              "  cancel.remove();\n",
              "\n",
              "  // Disable the input element since further picks are not allowed.\n",
              "  inputElement.disabled = true;\n",
              "\n",
              "  if (!files) {\n",
              "    return {\n",
              "      response: {\n",
              "        action: 'complete',\n",
              "      }\n",
              "    };\n",
              "  }\n",
              "\n",
              "  for (const file of files) {\n",
              "    const li = document.createElement('li');\n",
              "    li.append(span(file.name, {fontWeight: 'bold'}));\n",
              "    li.append(span(\n",
              "        `(${file.type || 'n/a'}) - ${file.size} bytes, ` +\n",
              "        `last modified: ${\n",
              "            file.lastModifiedDate ? file.lastModifiedDate.toLocaleDateString() :\n",
              "                                    'n/a'} - `));\n",
              "    const percent = span('0% done');\n",
              "    li.appendChild(percent);\n",
              "\n",
              "    outputElement.appendChild(li);\n",
              "\n",
              "    const fileDataPromise = new Promise((resolve) => {\n",
              "      const reader = new FileReader();\n",
              "      reader.onload = (e) => {\n",
              "        resolve(e.target.result);\n",
              "      };\n",
              "      reader.readAsArrayBuffer(file);\n",
              "    });\n",
              "    // Wait for the data to be ready.\n",
              "    let fileData = yield {\n",
              "      promise: fileDataPromise,\n",
              "      response: {\n",
              "        action: 'continue',\n",
              "      }\n",
              "    };\n",
              "\n",
              "    // Use a chunked sending to avoid message size limits. See b/62115660.\n",
              "    let position = 0;\n",
              "    do {\n",
              "      const length = Math.min(fileData.byteLength - position, MAX_PAYLOAD_SIZE);\n",
              "      const chunk = new Uint8Array(fileData, position, length);\n",
              "      position += length;\n",
              "\n",
              "      const base64 = btoa(String.fromCharCode.apply(null, chunk));\n",
              "      yield {\n",
              "        response: {\n",
              "          action: 'append',\n",
              "          file: file.name,\n",
              "          data: base64,\n",
              "        },\n",
              "      };\n",
              "\n",
              "      let percentDone = fileData.byteLength === 0 ?\n",
              "          100 :\n",
              "          Math.round((position / fileData.byteLength) * 100);\n",
              "      percent.textContent = `${percentDone}% done`;\n",
              "\n",
              "    } while (position < fileData.byteLength);\n",
              "  }\n",
              "\n",
              "  // All done.\n",
              "  yield {\n",
              "    response: {\n",
              "      action: 'complete',\n",
              "    }\n",
              "  };\n",
              "}\n",
              "\n",
              "scope.google = scope.google || {};\n",
              "scope.google.colab = scope.google.colab || {};\n",
              "scope.google.colab._files = {\n",
              "  _uploadFiles,\n",
              "  _uploadFilesContinue,\n",
              "};\n",
              "})(self);\n",
              "</script> "
            ]
          },
          "metadata": {}
        },
        {
          "output_type": "stream",
          "name": "stdout",
          "text": [
            "Saving name_function.py to name_function.py\n"
          ]
        },
        {
          "output_type": "execute_result",
          "data": {
            "text/plain": [
              "{'name_function.py': b'# -*- coding: utf-8 -*-\\n\"\"\"name_function.ipynb\\n\\nAutomatically generated by Colaboratory.\\n\\nOriginal file is located at\\n    https://colab.research.google.com/drive/1c_cuooZmIaRk7vxEI9vY5gPwrNa7lEpf\\n\"\"\"\\n\\ndef get_formatted_name(first, last):\\n    \"\"\"Generate a neatly formatted full name.\"\"\"\\n    full_name = first + \\' \\' + last\\n    return full_name.title()'}"
            ]
          },
          "metadata": {},
          "execution_count": 2
        }
      ]
    },
    {
      "cell_type": "code",
      "execution_count": null,
      "metadata": {
        "colab": {
          "base_uri": "https://localhost:8080/"
        },
        "id": "y6ckXxQIuim5",
        "outputId": "68662210-5459-4a1e-dbf3-480cd18e92f7"
      },
      "outputs": [
        {
          "name": "stdout",
          "output_type": "stream",
          "text": [
            "Enter 'q' at any time to quit.\n",
            "\n",
            "Please give me a first name: Bernard\n",
            "Please give me a last name: Lee\n",
            "\tNeatly formatted name: Bernard Lee.\n",
            "\n",
            "Please give me a first name: q\n"
          ]
        }
      ],
      "source": [
        "# Import name_function module\n",
        "from name_function import get_formatted_name\n",
        "\n",
        "# Generate a neatly formatted full name\n",
        "\n"
      ]
    },
    {
      "cell_type": "markdown",
      "source": [
        "# **Exercise 2: Using *pytest()* function**\n",
        "* Create a python module named ***survey.ipynb***"
      ],
      "metadata": {
        "id": "8nRjgwodsb3i"
      }
    },
    {
      "cell_type": "code",
      "source": [
        "# Convert survey.ipynb to .py format\n",
        "%%shell\n",
        "jupyter nbconvert --to python /content/drive/MyDrive/Colab\\ Notebooks/survey.ipynb"
      ],
      "metadata": {
        "colab": {
          "base_uri": "https://localhost:8080/"
        },
        "id": "kDv8AeNcF0s3",
        "outputId": "5cc4dac0-ec4e-4023-a6af-98adaf2eeaad"
      },
      "execution_count": null,
      "outputs": [
        {
          "output_type": "stream",
          "name": "stdout",
          "text": [
            "[NbConvertApp] Converting notebook /content/drive/MyDrive/Colab Notebooks/survey.ipynb to python\n",
            "[NbConvertApp] Writing 743 bytes to /content/drive/MyDrive/Colab Notebooks/survey.py\n"
          ]
        },
        {
          "output_type": "execute_result",
          "data": {
            "text/plain": []
          },
          "metadata": {},
          "execution_count": 62
        }
      ]
    },
    {
      "cell_type": "code",
      "source": [
        "# Copy the survey.py to content folder\n",
        "!cp /content/drive/MyDrive/Colab\\ Notebooks/survey.py /content/"
      ],
      "metadata": {
        "id": "pP08dgJBG3Kr"
      },
      "execution_count": null,
      "outputs": []
    },
    {
      "cell_type": "code",
      "source": [
        "# Test running on the survey module\n",
        "from survey import AnonymousSurvey\n",
        "\n",
        "# Define a question, and make a survey.\n",
        "question = \"What language did you first learn to speak?\"\n",
        "my_survey = AnonymousSurvey(question)\n",
        "\n",
        "# Show the question, and store responses to the question.\n",
        "my_survey.show_question()\n",
        "print(\"Enter 'q' at any time to quit.\\n\")\n",
        "while True:\n",
        "    response = input(\"Language: \")\n",
        "    if response == 'q':\n",
        "        break\n",
        "    my_survey.store_response(response)\n",
        "\n",
        "\n",
        "# Show the survey results.\n",
        "print(\"\\nThank you to everyone who participated in the survey!\")\n",
        "my_survey.show_results()"
      ],
      "metadata": {
        "colab": {
          "base_uri": "https://localhost:8080/"
        },
        "id": "oy_DXQ3hJxQc",
        "outputId": "fbcf027a-1fda-49ac-fe87-cf5b9c2a7769"
      },
      "execution_count": null,
      "outputs": [
        {
          "output_type": "stream",
          "name": "stdout",
          "text": [
            "What language did you first learn to speak?\n",
            "Enter 'q' at any time to quit.\n",
            "\n",
            "Language: Bahasa Malaysia\n",
            "Language: English\n",
            "Language: Mandarin\n",
            "Language: q\n",
            "\n",
            "Thank you to everyone who participated in the survey!\n",
            "Survey results:\n",
            "- Bahasa Malaysia\n",
            "- English\n",
            "- Mandarin\n"
          ]
        }
      ]
    },
    {
      "cell_type": "markdown",
      "source": [
        "# **A Passing Test**"
      ],
      "metadata": {
        "id": "idwIY79DRbor"
      }
    },
    {
      "cell_type": "code",
      "source": [
        "# Convert the test code -> test_survey.ipynb to .py format\n",
        "%%shell\n",
        "jupyter nbconvert --to python /content/drive/MyDrive/Colab\\ Notebooks/test_survey.ipynb"
      ],
      "metadata": {
        "colab": {
          "base_uri": "https://localhost:8080/"
        },
        "id": "A3UKRA6cEaL7",
        "outputId": "b9487619-552c-42a1-bd53-8183bd6ca63a"
      },
      "execution_count": null,
      "outputs": [
        {
          "output_type": "stream",
          "name": "stdout",
          "text": [
            "[NbConvertApp] Converting notebook /content/drive/MyDrive/Colab Notebooks/test_survey.ipynb to python\n",
            "[NbConvertApp] Writing 398 bytes to /content/drive/MyDrive/Colab Notebooks/test_survey.py\n"
          ]
        },
        {
          "output_type": "execute_result",
          "data": {
            "text/plain": []
          },
          "metadata": {},
          "execution_count": 65
        }
      ]
    },
    {
      "cell_type": "code",
      "source": [
        "# Copy the test code -> test_survey.py to content folder\n",
        "!cp /content/drive/MyDrive/Colab\\ Notebooks/test_survey.py /content/"
      ],
      "metadata": {
        "id": "hrXcX5iUfLGU"
      },
      "execution_count": null,
      "outputs": []
    },
    {
      "cell_type": "code",
      "source": [
        "# Install the pytest library if you haven't\n",
        "#!pip install pytest"
      ],
      "metadata": {
        "id": "CLzWxooI3YYo"
      },
      "execution_count": null,
      "outputs": []
    },
    {
      "cell_type": "code",
      "source": [
        "# Run pytest using test_survey.py\n",
        "!pytest /content/test_survey.py"
      ],
      "metadata": {
        "colab": {
          "base_uri": "https://localhost:8080/"
        },
        "id": "mW_eUPRNw--1",
        "outputId": "feaf7d00-f73d-47ce-d60c-53b06968de0b"
      },
      "execution_count": null,
      "outputs": [
        {
          "output_type": "stream",
          "name": "stdout",
          "text": [
            "\u001b[1m======================================= test session starts ========================================\u001b[0m\n",
            "platform linux -- Python 3.10.12, pytest-7.4.3, pluggy-1.3.0\n",
            "rootdir: /content\n",
            "plugins: anyio-3.7.1\n",
            "\u001b[1mcollecting ... \u001b[0m\u001b[1m\rcollected 1 item                                                                                   \u001b[0m\n",
            "\n",
            "test_survey.py \u001b[32m.\u001b[0m\u001b[32m                                                                             [100%]\u001b[0m\n",
            "\n",
            "\u001b[32m======================================== \u001b[32m\u001b[1m1 passed\u001b[0m\u001b[32m in 0.01s\u001b[0m\u001b[32m =========================================\u001b[0m\n"
          ]
        }
      ]
    },
    {
      "cell_type": "markdown",
      "source": [
        "# **Exercise 3: A failing test**"
      ],
      "metadata": {
        "id": "t5WmIfCzNK-2"
      }
    },
    {
      "cell_type": "code",
      "source": [
        "# Copy\n",
        "#!cp name_function.py name_function_failed.py\n",
        "#!cp test_name_function.py test_name_function_failed.py"
      ],
      "metadata": {
        "id": "5hofIgyjhDM_"
      },
      "execution_count": null,
      "outputs": []
    },
    {
      "cell_type": "code",
      "source": [
        "# A failed test\n"
      ],
      "metadata": {
        "colab": {
          "base_uri": "https://localhost:8080/"
        },
        "id": "ie9vrrG9hABI",
        "outputId": "d91bbb3a-40e8-48c4-d418-61346d936fe7"
      },
      "execution_count": null,
      "outputs": [
        {
          "output_type": "stream",
          "name": "stdout",
          "text": [
            "\u001b[1m======================================= test session starts ========================================\u001b[0m\n",
            "platform linux -- Python 3.10.12, pytest-7.4.3, pluggy-1.3.0\n",
            "rootdir: /content\n",
            "plugins: anyio-3.7.1\n",
            "\u001b[1mcollecting ... \u001b[0m\u001b[1m\rcollected 1 item                                                                                   \u001b[0m\n",
            "\n",
            "test_name_function_failed.py \u001b[31mF\u001b[0m\u001b[31m                                                               [100%]\u001b[0m\n",
            "\n",
            "============================================= FAILURES =============================================\n",
            "\u001b[31m\u001b[1m_______________________________________ test_first_last_name _______________________________________\u001b[0m\n",
            "\n",
            "    \u001b[94mdef\u001b[39;49;00m \u001b[92mtest_first_last_name\u001b[39;49;00m():\u001b[90m\u001b[39;49;00m\n",
            "    \u001b[90m    \u001b[39;49;00m\u001b[33m\"\"\"Do names like 'Janis Joplin' work?\"\"\"\u001b[39;49;00m\u001b[90m\u001b[39;49;00m\n",
            ">       formatted_name = get_formatted_name(\u001b[33m'\u001b[39;49;00m\u001b[33mjanis\u001b[39;49;00m\u001b[33m'\u001b[39;49;00m, \u001b[33m'\u001b[39;49;00m\u001b[33mjoplin\u001b[39;49;00m\u001b[33m'\u001b[39;49;00m)\u001b[90m\u001b[39;49;00m\n",
            "\u001b[1m\u001b[31mE       TypeError: get_formatted_name() missing 1 required positional argument: 'last'\u001b[0m\n",
            "\n",
            "\u001b[1m\u001b[31mtest_name_function_failed.py\u001b[0m:15: TypeError\n",
            "\u001b[36m\u001b[1m===================================== short test summary info ======================================\u001b[0m\n",
            "\u001b[31mFAILED\u001b[0m test_name_function_failed.py::\u001b[1mtest_first_last_name\u001b[0m - TypeError: get_formatted_name() missing 1 required positional argument: 'last'\n",
            "\u001b[31m======================================== \u001b[31m\u001b[1m1 failed\u001b[0m\u001b[31m in 0.09s\u001b[0m\u001b[31m =========================================\u001b[0m\n"
          ]
        }
      ]
    },
    {
      "cell_type": "markdown",
      "source": [
        "# **Exercise 4: Fixing a Failing test**"
      ],
      "metadata": {
        "id": "WzlT2xm_XFdn"
      }
    },
    {
      "cell_type": "code",
      "source": [
        "# Copy a fixed files\n",
        "#!cp name_function_failed.py name_function_failed_fixed.py\n",
        "#!cp test_name_function_failed.py test_name_function_fixed.py"
      ],
      "metadata": {
        "id": "4maOuiJ6iTHJ"
      },
      "execution_count": null,
      "outputs": []
    },
    {
      "cell_type": "code",
      "source": [
        "# Testing a fixed failing test\n"
      ],
      "metadata": {
        "colab": {
          "base_uri": "https://localhost:8080/"
        },
        "id": "zI3dsOfiiyte",
        "outputId": "ce0941c7-8a0d-4009-cb70-c677b6ba9935"
      },
      "execution_count": null,
      "outputs": [
        {
          "output_type": "stream",
          "name": "stdout",
          "text": [
            "\u001b[1m======================================= test session starts ========================================\u001b[0m\n",
            "platform linux -- Python 3.10.12, pytest-7.4.3, pluggy-1.3.0\n",
            "rootdir: /content\n",
            "plugins: anyio-3.7.1\n",
            "\u001b[1mcollecting ... \u001b[0m\u001b[1m\rcollected 1 item                                                                                   \u001b[0m\n",
            "\n",
            "test_name_function_fixed.py \u001b[32m.\u001b[0m\u001b[32m                                                                [100%]\u001b[0m\n",
            "\n",
            "\u001b[32m======================================== \u001b[32m\u001b[1m1 passed\u001b[0m\u001b[32m in 0.01s\u001b[0m\u001b[32m =========================================\u001b[0m\n"
          ]
        }
      ]
    },
    {
      "cell_type": "markdown",
      "source": [
        "# **Some points of ponder:**\n",
        "1. Test functions need to start with the word ***test***\n",
        "    * Any function that starts with ***test_*** will be discovered by pytest, and\n",
        "    * will be run as part of the testing process.\n",
        "2. When a test fails, don’t change the test\n",
        "    * Instead, ***fix the code***\n",
        "3. An ***assertion*** is a ***claim about a condition***"
      ],
      "metadata": {
        "id": "CI5eD-11dfki"
      }
    },
    {
      "cell_type": "markdown",
      "source": [
        "# **Exercise 5: Revision: A class**"
      ],
      "metadata": {
        "id": "KbPQxBGgencb"
      }
    },
    {
      "cell_type": "code",
      "source": [
        "# Import a class module\n",
        "\n",
        "from survey import AnonymousSurvey\n",
        "\n",
        "# Define a question, and make a survey.\n",
        "question = \"What language did you first learn to speak?\"\n",
        "language_survey = AnonymousSurvey(question)\n",
        "\n",
        "# Show the question, and store responses to the question.\n",
        "language_survey.show_question()\n",
        "print(\"Enter 'q' at any time to quit.\\n\")\n",
        "while True:\n",
        "    response = input(\"Language: \")\n",
        "    if response == 'q':\n",
        "        break\n",
        "    language_survey.store_response(response)\n",
        "\n",
        "# Show the survey results.\n",
        "print(\"\\nThank you to everyone who participated in the survey!\")\n",
        "language_survey.show_results()\n"
      ],
      "metadata": {
        "colab": {
          "base_uri": "https://localhost:8080/"
        },
        "id": "NxYKu3BeEGQt",
        "outputId": "435387e9-cb30-49ac-d5ce-d2098a1efaa9"
      },
      "execution_count": null,
      "outputs": [
        {
          "output_type": "stream",
          "name": "stdout",
          "text": [
            "What language did you first learn to speak?\n",
            "Enter 'q' at any time to quit.\n",
            "\n",
            "Language: Bahasa Malaysia\n",
            "Language: English\n",
            "Language: Portugis\n",
            "Language: q\n",
            "\n",
            "Thank you to everyone who participated in the survey!\n",
            "Survey results:\n",
            "- Bahasa Malaysia\n",
            "- English\n",
            "- Portugis\n"
          ]
        }
      ]
    },
    {
      "cell_type": "markdown",
      "source": [
        "# **Exercise 6: Testing a class using single response**"
      ],
      "metadata": {
        "id": "-H9BlZY9hBUD"
      }
    },
    {
      "cell_type": "code",
      "source": [
        "# Testing a class using a single response\n"
      ],
      "metadata": {
        "colab": {
          "base_uri": "https://localhost:8080/"
        },
        "id": "HWRUP6K7GKVZ",
        "outputId": "4429efb9-72a4-44fa-f66d-c897fd99b2ba"
      },
      "execution_count": null,
      "outputs": [
        {
          "output_type": "stream",
          "name": "stdout",
          "text": [
            "\u001b[1m======================================= test session starts ========================================\u001b[0m\n",
            "platform linux -- Python 3.10.12, pytest-7.4.3, pluggy-1.3.0\n",
            "rootdir: /content\n",
            "plugins: anyio-3.7.1\n",
            "\u001b[1mcollecting ... \u001b[0m\u001b[1m\rcollected 1 item                                                                                   \u001b[0m\n",
            "\n",
            "test_survey.py \u001b[32m.\u001b[0m\u001b[32m                                                                             [100%]\u001b[0m\n",
            "\n",
            "\u001b[32m======================================== \u001b[32m\u001b[1m1 passed\u001b[0m\u001b[32m in 0.01s\u001b[0m\u001b[32m =========================================\u001b[0m\n"
          ]
        }
      ]
    },
    {
      "cell_type": "markdown",
      "source": [
        "# **Exercise 7: Testing a class using multiple response**"
      ],
      "metadata": {
        "id": "GfmHr2z8gyu8"
      }
    },
    {
      "cell_type": "code",
      "source": [
        "# Copy the test_survey_3qs.py to content folder\n"
      ],
      "metadata": {
        "id": "DZkJ6zFFZIjf"
      },
      "execution_count": null,
      "outputs": []
    },
    {
      "cell_type": "code",
      "source": [
        "# Testing a class using multiple responses\n"
      ],
      "metadata": {
        "colab": {
          "base_uri": "https://localhost:8080/"
        },
        "id": "5EFUhvFoHjD5",
        "outputId": "180a6384-971e-4f2f-cc96-e770aa1d4508"
      },
      "execution_count": null,
      "outputs": [
        {
          "output_type": "stream",
          "name": "stdout",
          "text": [
            "\u001b[1m======================================= test session starts ========================================\u001b[0m\n",
            "platform linux -- Python 3.10.12, pytest-7.4.3, pluggy-1.3.0\n",
            "rootdir: /content\n",
            "plugins: anyio-3.7.1\n",
            "\u001b[1mcollecting ... \u001b[0m\u001b[1m\rcollected 2 items                                                                                  \u001b[0m\n",
            "\n",
            "test_survey_3qs.py \u001b[32m.\u001b[0m\u001b[32m.\u001b[0m\u001b[32m                                                                        [100%]\u001b[0m\n",
            "\n",
            "\u001b[32m======================================== \u001b[32m\u001b[1m2 passed\u001b[0m\u001b[32m in 0.02s\u001b[0m\u001b[32m =========================================\u001b[0m\n"
          ]
        }
      ]
    },
    {
      "cell_type": "markdown",
      "source": [
        "# **Good Luck and See You All Next Week!**\n",
        "# **Remember: Test on 2023-12-17**"
      ],
      "metadata": {
        "id": "FrQEhWBtjRaH"
      }
    }
  ]
}